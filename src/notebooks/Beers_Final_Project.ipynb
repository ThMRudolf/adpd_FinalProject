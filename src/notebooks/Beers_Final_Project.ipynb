{
 "cells": [
  {
   "cell_type": "code",
   "execution_count": null,
   "id": "3a253023",
   "metadata": {},
   "outputs": [
    {
     "data": {
      "text/html": [
       "Current session configs: <tt>{'driverMemory': '1000M', 'executorCores': 2, 'proxyUser': 'jovyan', 'kind': 'pyspark'}</tt><br>"
      ],
      "text/plain": [
       "<IPython.core.display.HTML object>"
      ]
     },
     "metadata": {},
     "output_type": "display_data"
    },
    {
     "data": {
      "text/html": [
       "No active sessions."
      ],
      "text/plain": [
       "<IPython.core.display.HTML object>"
      ]
     },
     "metadata": {},
     "output_type": "display_data"
    }
   ],
   "source": [
    "%%info"
   ]
  },
  {
   "cell_type": "code",
   "execution_count": null,
   "id": "c9f9b045",
   "metadata": {},
   "outputs": [
    {
     "data": {
      "text/html": [
       "Current session configs: <tt>{'conf': {'spark.pyspark.python': 'python', 'spark.pyspark.virtualenv.enabled': 'true', 'spark.pyspark.virtualenv.type': 'native', 'spark.pyspark.virtualenv.bin.path': '/usr/bin/virtualenv'}, 'proxyUser': 'jovyan', 'kind': 'pyspark'}</tt><br>"
      ],
      "text/plain": [
       "<IPython.core.display.HTML object>"
      ]
     },
     "metadata": {},
     "output_type": "display_data"
    },
    {
     "data": {
      "text/html": [
       "No active sessions."
      ],
      "text/plain": [
       "<IPython.core.display.HTML object>"
      ]
     },
     "metadata": {},
     "output_type": "display_data"
    }
   ],
   "source": [
    "%%configure -f\n",
    "{ \"conf\":{\n",
    "          \"spark.pyspark.python\": \"python\",\n",
    "          \"spark.pyspark.virtualenv.enabled\": \"true\",\n",
    "          \"spark.pyspark.virtualenv.type\":\"native\",\n",
    "          \"spark.pyspark.virtualenv.bin.path\":\"/usr/bin/virtualenv\"\n",
    "         }\n",
    "}\n"
   ]
  },
  {
   "cell_type": "code",
   "execution_count": null,
   "id": "6167570f",
   "metadata": {},
   "outputs": [
    {
     "name": "stdout",
     "output_type": "stream",
     "text": [
      "Starting Spark application\n"
     ]
    },
    {
     "data": {
      "text/html": [
       "<table>\n",
       "<tr><th>ID</th><th>YARN Application ID</th><th>Kind</th><th>State</th><th>Spark UI</th><th>Driver log</th><th>User</th><th>Current session?</th></tr><tr><td>2</td><td>application_1747863213095_0003</td><td>pyspark</td><td>idle</td><td><a target=\"_blank\" href=\"http://ip-172-31-33-124.ec2.internal:20888/proxy/application_1747863213095_0003/\">Link</a></td><td><a target=\"_blank\" href=\"http://ip-172-31-35-223.ec2.internal:8042/node/containerlogs/container_1747863213095_0003_01_000001/livy\">Link</a></td><td>None</td><td>✔</td></tr></table>"
      ],
      "text/plain": [
       "<IPython.core.display.HTML object>"
      ]
     },
     "metadata": {},
     "output_type": "display_data"
    },
    {
     "data": {
      "application/vnd.jupyter.widget-view+json": {
       "model_id": "",
       "version_major": 2,
       "version_minor": 0
      },
      "text/plain": [
       "FloatProgress(value=0.0, bar_style='info', description='Progress:', layout=Layout(height='25px', width='50%'),…"
      ]
     },
     "metadata": {},
     "output_type": "display_data"
    },
    {
     "name": "stdout",
     "output_type": "stream",
     "text": [
      "SparkSession available as 'spark'.\n"
     ]
    },
    {
     "data": {
      "application/vnd.jupyter.widget-view+json": {
       "model_id": "",
       "version_major": 2,
       "version_minor": 0
      },
      "text/plain": [
       "FloatProgress(value=0.0, bar_style='info', description='Progress:', layout=Layout(height='25px', width='50%'),…"
      ]
     },
     "metadata": {},
     "output_type": "display_data"
    },
    {
     "name": "stdout",
     "output_type": "stream",
     "text": [
      "<pyspark.sql.session.SparkSession object at 0x7fc5303fe910>"
     ]
    }
   ],
   "source": [
    "spark\n"
   ]
  },
  {
   "cell_type": "code",
   "execution_count": null,
   "id": "08b9d7b7",
   "metadata": {},
   "outputs": [
    {
     "data": {
      "application/vnd.jupyter.widget-view+json": {
       "model_id": "",
       "version_major": 2,
       "version_minor": 0
      },
      "text/plain": [
       "FloatProgress(value=0.0, bar_style='info', description='Progress:', layout=Layout(height='25px', width='50%'),…"
      ]
     },
     "metadata": {},
     "output_type": "display_data"
    }
   ],
   "source": [
    "# Spark\n",
    "from pyspark.sql import SparkSession, DataFrame\n",
    "from pyspark.sql.window import Window\n",
    "\n",
    "# Tipos de datos\n",
    "from pyspark.sql.types import (\n",
    "    StringType, FloatType, IntegerType, DateType, StructType, StructField\n",
    ")\n",
    "\n",
    "# Funciones de PySpark\n",
    "from pyspark.sql.functions import (\n",
    "    col, lit, lower, trim, regexp_replace, udf\n",
    ")\n",
    "\n",
    "# Otros\n",
    "import unicodedata\n",
    "from functools import reduce\n",
    "import re\n",
    "\n"
   ]
  },
  {
   "cell_type": "code",
   "execution_count": null,
   "id": "2dcc054f",
   "metadata": {},
   "outputs": [
    {
     "data": {
      "application/vnd.jupyter.widget-view+json": {
       "model_id": "",
       "version_major": 2,
       "version_minor": 0
      },
      "text/plain": [
       "FloatProgress(value=0.0, bar_style='info', description='Progress:', layout=Layout(height='25px', width='50%'),…"
      ]
     },
     "metadata": {},
     "output_type": "display_data"
    }
   ],
   "source": [
    "spark = SparkSession.builder \\\n",
    "    .appName(\"beer_final_project\") \\\n",
    "    .getOrCreate()"
   ]
  },
  {
   "cell_type": "code",
   "execution_count": null,
   "id": "3596e15d",
   "metadata": {},
   "outputs": [
    {
     "data": {
      "application/vnd.jupyter.widget-view+json": {
       "model_id": "",
       "version_major": 2,
       "version_minor": 0
      },
      "text/plain": [
       "FloatProgress(value=0.0, bar_style='info', description='Progress:', layout=Layout(height='25px', width='50%'),…"
      ]
     },
     "metadata": {},
     "output_type": "display_data"
    },
    {
     "name": "stdout",
     "output_type": "stream",
     "text": [
      "Collecting pandas\n",
      "  Downloading pandas-2.2.3-cp39-cp39-manylinux_2_17_x86_64.manylinux2014_x86_64.whl (13.1 MB)\n",
      "Requirement already satisfied: pytz>=2020.1 in /usr/local/lib/python3.9/site-packages (from pandas) (2025.1)\n",
      "Collecting tzdata>=2022.7\n",
      "  Downloading tzdata-2025.2-py2.py3-none-any.whl (347 kB)\n",
      "Collecting python-dateutil>=2.8.2\n",
      "  Downloading python_dateutil-2.9.0.post0-py2.py3-none-any.whl (229 kB)\n",
      "Collecting numpy>=1.22.4\n",
      "  Downloading numpy-2.0.2-cp39-cp39-manylinux_2_17_x86_64.manylinux2014_x86_64.whl (19.5 MB)\n",
      "Requirement already satisfied: six>=1.5 in /usr/local/lib/python3.9/site-packages (from python-dateutil>=2.8.2->pandas) (1.13.0)\n",
      "Installing collected packages: tzdata, python-dateutil, numpy, pandas\n",
      "  Attempting uninstall: python-dateutil\n",
      "    Found existing installation: python-dateutil 2.8.1\n",
      "    Not uninstalling python-dateutil at /usr/lib/python3.9/site-packages, outside environment /mnt/yarn/usercache/livy/appcache/application_1747863213095_0003/container_1747863213095_0003_01_000001/tmp/spark-bb8815e8-2288-41bc-aeca-e13178c7e93f\n",
      "    Can't uninstall 'python-dateutil'. No files were found to uninstall.\n",
      "Successfully installed numpy-2.0.2 pandas-2.2.3 python-dateutil-2.9.0.post0 tzdata-2025.2\n",
      "\n",
      "WARNING: The directory '/home/.cache/pip' or its parent directory is not owned or is not writable by the current user. The cache has been disabled. Check the permissions and owner of that directory. If executing pip with sudo, you should use sudo's -H flag.\n",
      "ERROR: pip's dependency resolver does not currently take into account all the packages that are installed. This behaviour is the source of the following dependency conflicts.\n",
      "awscli 2.23.11 requires python-dateutil<=2.9.0,>=2.1, but you have python-dateutil 2.9.0.post0 which is incompatible."
     ]
    }
   ],
   "source": [
    "spark._sc.install_pypi_package(\"pandas\")"
   ]
  },
  {
   "cell_type": "code",
   "execution_count": null,
   "id": "0d64d3fe",
   "metadata": {},
   "outputs": [
    {
     "data": {
      "application/vnd.jupyter.widget-view+json": {
       "model_id": "",
       "version_major": 2,
       "version_minor": 0
      },
      "text/plain": [
       "FloatProgress(value=0.0, bar_style='info', description='Progress:', layout=Layout(height='25px', width='50%'),…"
      ]
     },
     "metadata": {},
     "output_type": "display_data"
    },
    {
     "name": "stderr",
     "output_type": "stream",
     "text": [
      "An error was encountered:\n",
      "Package already installed for current Spark context!\n",
      "Traceback (most recent call last):\n",
      "  File \"/mnt/yarn/usercache/livy/appcache/application_1747863213095_0003/container_1747863213095_0003_01_000001/pyspark.zip/pyspark/context.py\", line 2614, in install_pypi_package\n",
      "    raise ValueError(\"Package already installed for current Spark context!\")\n",
      "ValueError: Package already installed for current Spark context!\n",
      "\n"
     ]
    }
   ],
   "source": [
    "spark._sc.install_pypi_package(\"matplotlib\", \"https://pypi.org/simple\")"
   ]
  },
  {
   "cell_type": "code",
   "execution_count": null,
   "id": "13b885dc",
   "metadata": {},
   "outputs": [
    {
     "data": {
      "application/vnd.jupyter.widget-view+json": {
       "model_id": "",
       "version_major": 2,
       "version_minor": 0
      },
      "text/plain": [
       "FloatProgress(value=0.0, bar_style='info', description='Progress:', layout=Layout(height='25px', width='50%'),…"
      ]
     },
     "metadata": {},
     "output_type": "display_data"
    },
    {
     "name": "stdout",
     "output_type": "stream",
     "text": [
      "Requirement already satisfied: numpy in ./tmp/spark-bb8815e8-2288-41bc-aeca-e13178c7e93f/lib64/python3.9/site-packages (2.0.2)\n",
      "\n",
      "WARNING: The directory '/home/.cache/pip' or its parent directory is not owned or is not writable by the current user. The cache has been disabled. Check the permissions and owner of that directory. If executing pip with sudo, you should use sudo's -H flag."
     ]
    }
   ],
   "source": [
    "spark._sc.install_pypi_package(\"numpy\", \"https://pypi.org/simple\")"
   ]
  },
  {
   "cell_type": "code",
   "execution_count": null,
   "id": "c7bab06f",
   "metadata": {},
   "outputs": [
    {
     "data": {
      "application/vnd.jupyter.widget-view+json": {
       "model_id": "",
       "version_major": 2,
       "version_minor": 0
      },
      "text/plain": [
       "FloatProgress(value=0.0, bar_style='info', description='Progress:', layout=Layout(height='25px', width='50%'),…"
      ]
     },
     "metadata": {},
     "output_type": "display_data"
    },
    {
     "name": "stdout",
     "output_type": "stream",
     "text": [
      "Collecting scikit-learn\n",
      "  Downloading scikit_learn-1.6.1-cp39-cp39-manylinux_2_17_x86_64.manylinux2014_x86_64.whl (13.5 MB)\n",
      "Requirement already satisfied: numpy>=1.19.5 in ./tmp/spark-bb8815e8-2288-41bc-aeca-e13178c7e93f/lib64/python3.9/site-packages (from scikit-learn) (2.0.2)\n",
      "Collecting threadpoolctl>=3.1.0\n",
      "  Downloading threadpoolctl-3.6.0-py3-none-any.whl (18 kB)\n",
      "Requirement already satisfied: joblib>=1.2.0 in /usr/local/lib64/python3.9/site-packages (from scikit-learn) (1.4.2)\n",
      "Collecting scipy>=1.6.0\n",
      "  Downloading scipy-1.13.1-cp39-cp39-manylinux_2_17_x86_64.manylinux2014_x86_64.whl (38.6 MB)\n",
      "Installing collected packages: threadpoolctl, scipy, scikit-learn\n",
      "Successfully installed scikit-learn-1.6.1 scipy-1.13.1 threadpoolctl-3.6.0\n",
      "\n",
      "WARNING: The directory '/home/.cache/pip' or its parent directory is not owned or is not writable by the current user. The cache has been disabled. Check the permissions and owner of that directory. If executing pip with sudo, you should use sudo's -H flag."
     ]
    }
   ],
   "source": [
    "spark._sc.install_pypi_package(\"scikit-learn\", \"https://pypi.org/simple\")\n"
   ]
  },
  {
   "cell_type": "code",
   "execution_count": null,
   "id": "2771bae7",
   "metadata": {},
   "outputs": [
    {
     "data": {
      "application/vnd.jupyter.widget-view+json": {
       "model_id": "",
       "version_major": 2,
       "version_minor": 0
      },
      "text/plain": [
       "FloatProgress(value=0.0, bar_style='info', description='Progress:', layout=Layout(height='25px', width='50%'),…"
      ]
     },
     "metadata": {},
     "output_type": "display_data"
    }
   ],
   "source": [
    "import pandas as pd\n",
    "import matplotlib as plt\n",
    "import numpy as np"
   ]
  },
  {
   "cell_type": "code",
   "execution_count": null,
   "id": "4104d224",
   "metadata": {},
   "outputs": [
    {
     "data": {
      "application/vnd.jupyter.widget-view+json": {
       "model_id": "",
       "version_major": 2,
       "version_minor": 0
      },
      "text/plain": [
       "FloatProgress(value=0.0, bar_style='info', description='Progress:', layout=Layout(height='25px', width='50%'),…"
      ]
     },
     "metadata": {},
     "output_type": "display_data"
    },
    {
     "name": "stdout",
     "output_type": "stream",
     "text": [
      "root\n",
      " |-- name: string (nullable = true)\n",
      " |-- style: string (nullable = true)\n",
      " |-- brewery: string (nullable = true)\n",
      " |-- beer name (full): string (nullable = true)\n",
      " |-- description: string (nullable = true)\n",
      " |-- abv: string (nullable = true)\n",
      " |-- min ibu: string (nullable = true)\n",
      " |-- max ibu: string (nullable = true)\n",
      " |-- astringency: string (nullable = true)\n",
      " |-- body: string (nullable = true)\n",
      " |-- alcohol: string (nullable = true)\n",
      " |-- bitter: string (nullable = true)\n",
      " |-- sweet: string (nullable = true)\n",
      " |-- sour: string (nullable = true)\n",
      " |-- salty: string (nullable = true)\n",
      " |-- fruits: string (nullable = true)\n",
      " |-- hoppy: string (nullable = true)\n",
      " |-- spices: string (nullable = true)\n",
      " |-- malty: string (nullable = true)\n",
      " |-- review_aroma: string (nullable = true)\n",
      " |-- review_appearance: string (nullable = true)\n",
      " |-- review_palate: double (nullable = true)\n",
      " |-- review_taste: double (nullable = true)\n",
      " |-- review_overall: double (nullable = true)\n",
      " |-- number_of_reviews: double (nullable = true)\n",
      "\n",
      "+--------------------+-------+--------------------+--------------------+--------------------+---+-------+-------+-----------+----+-------+------+-----+----+-----+------+-----+------+-----+------------+-----------------+-------------+------------+--------------+-----------------+\n",
      "|                name|  style|             brewery|    beer name (full)|         description|abv|min ibu|max ibu|astringency|body|alcohol|bitter|sweet|sour|salty|fruits|hoppy|spices|malty|review_aroma|review_appearance|review_palate|review_taste|review_overall|number_of_reviews|\n",
      "+--------------------+-------+--------------------+--------------------+--------------------+---+-------+-------+-----------+----+-------+------+-----+----+-----+------+-----+------+-----+------------+-----------------+-------------+------------+--------------+-----------------+\n",
      "|               amber|altbier| alaskan brewing co.|alaskan brewing c...|\"notes:richly mal...|5.3|     25|     50|         13|  32|      9|    47|   74|  33|    0|    33|   57|     8|  111|    3.498994|         3.636821|     3.556338|    3.643863|      3.847082|            497.0|\n",
      "|          double bag|altbier|long trail brewin...|long trail brewin...|notes:this malty,...|7.2|     25|     50|         12|  57|     18|    33|   55|  16|    0|    24|   35|    12|   84|    3.798337|         3.846154|     3.904366|    4.024948|      4.034304|            481.0|\n",
      "|      long trail ale|altbier|long trail brewin...|long trail brewin...|notes:long trail ...|  5|     25|     50|         14|  37|      6|    42|   43|  11|    0|    10|   54|     4|   62|    3.409814|         3.667109|     3.600796|      3.6313|      3.830239|            377.0|\n",
      "|        doppelsticke|altbier|uerige obergarige...|uerige obergarige...|              notes:|8.5|     25|     50|         13|  55|     31|    47|  101|  18|    1|    49|   40|    16|  119|    4.148098|         4.033967|     4.150815|    4.205163|      4.005435|            368.0|\n",
      "|sleigh'r dark dou...|altbier|ninkasi brewing c...|ninkasi brewing c...|notes:called 'dar...|7.2|     25|     50|         25|  51|     26|    44|   45|   9|    1|    11|   51|    20|   95|       3.625|         3.973958|     3.734375|    3.765625|      3.817708|             96.0|\n",
      "+--------------------+-------+--------------------+--------------------+--------------------+---+-------+-------+-----------+----+-------+------+-----+----+-----+------+-----+------+-----+------------+-----------------+-------------+------------+--------------+-----------------+\n",
      "only showing top 5 rows"
     ]
    }
   ],
   "source": [
    "ruta_s3 = \"s3a://itam-analytics-sofia/beers/clean/beer_profile_and_ratings.csv\"\n",
    "\n",
    "df = spark.read.option(\"header\", \"true\") \\\n",
    "               .option(\"inferSchema\", \"true\") \\\n",
    "               .csv(ruta_s3)\n",
    "\n",
    "df.printSchema()\n",
    "df.show(5)\n"
   ]
  },
  {
   "cell_type": "code",
   "execution_count": null,
   "id": "752b8c98",
   "metadata": {},
   "outputs": [
    {
     "data": {
      "application/vnd.jupyter.widget-view+json": {
       "model_id": "",
       "version_major": 2,
       "version_minor": 0
      },
      "text/plain": [
       "FloatProgress(value=0.0, bar_style='info', description='Progress:', layout=Layout(height='25px', width='50%'),…"
      ]
     },
     "metadata": {},
     "output_type": "display_data"
    },
    {
     "name": "stdout",
     "output_type": "stream",
     "text": [
      "['name', 'style', 'brewery', 'beer name (full)', 'description', 'abv', 'min ibu', 'max ibu', 'astringency', 'body', 'alcohol', 'bitter', 'sweet', 'sour', 'salty', 'fruits', 'hoppy', 'spices', 'malty', 'review_aroma', 'review_appearance', 'review_palate', 'review_taste', 'review_overall', 'number_of_reviews']"
     ]
    }
   ],
   "source": [
    "df.count()\n",
    "df.columns\n"
   ]
  },
  {
   "cell_type": "code",
   "execution_count": null,
   "id": "55e7314b",
   "metadata": {},
   "outputs": [
    {
     "data": {
      "application/vnd.jupyter.widget-view+json": {
       "model_id": "",
       "version_major": 2,
       "version_minor": 0
      },
      "text/plain": [
       "FloatProgress(value=0.0, bar_style='info', description='Progress:', layout=Layout(height='25px', width='50%'),…"
      ]
     },
     "metadata": {},
     "output_type": "display_data"
    },
    {
     "name": "stdout",
     "output_type": "stream",
     "text": [
      "Shape: (3197, 25)"
     ]
    }
   ],
   "source": [
    "# Forma df \n",
    "\n",
    "(filas, columnas) = (df.count(), len(df.columns))\n",
    "print(\"Shape:\", (filas, columnas))\n"
   ]
  },
  {
   "cell_type": "code",
   "execution_count": null,
   "id": "ea0d145c",
   "metadata": {},
   "outputs": [
    {
     "data": {
      "application/vnd.jupyter.widget-view+json": {
       "model_id": "",
       "version_major": 2,
       "version_minor": 0
      },
      "text/plain": [
       "FloatProgress(value=0.0, bar_style='info', description='Progress:', layout=Layout(height='25px', width='50%'),…"
      ]
     },
     "metadata": {},
     "output_type": "display_data"
    },
    {
     "name": "stdout",
     "output_type": "stream",
     "text": [
      "+-------+--------------------+-------------+--------------------+--------------------+--------------------+--------------------+--------------------+------------------+--------------------+--------------------+--------------------+--------------------+------------------+-----------------+--------------------+--------------------+------------------+--------------------+--------------------+--------------------+--------------------+-----------------+-----------------+-----------------+------------------+\n",
      "|summary|                name|        style|             brewery|    beer name (full)|         description|                 abv|             min ibu|           max ibu|         astringency|                body|             alcohol|              bitter|             sweet|             sour|               salty|              fruits|             hoppy|              spices|               malty|        review_aroma|   review_appearance|    review_palate|     review_taste|   review_overall| number_of_reviews|\n",
      "+-------+--------------------+-------------+--------------------+--------------------+--------------------+--------------------+--------------------+------------------+--------------------+--------------------+--------------------+--------------------+------------------+-----------------+--------------------+--------------------+------------------+--------------------+--------------------+--------------------+--------------------+-----------------+-----------------+-----------------+------------------+\n",
      "|  count|                3197|         3197|                3197|                3197|                3197|                3197|                3197|              3197|                3197|                3197|                3197|                3197|              3197|             3197|                3197|                3197|              3197|                3197|                3197|                3197|                3197|             3197|             3197|             3197|              3197|\n",
      "|   mean|  1750.3333333333333|         NULL|                NULL|                NULL|                NULL|   6.515840103997408|   20.97809386049502| 38.56430715197957|  16.674094513162068|   45.46161871640847|  17.512105926860027|   35.91843926998112|57.301762114537446|33.01142139943521|    2.07217173299906|  38.042016280525985| 40.40892018779343|   18.81389236545682|   73.91645807259074|   5.122195504067581|  4.8675292559449455|4.725536550828906|4.218199457303734|4.152671371598376|   219.88084994401|\n",
      "| stddev|  174.55753588239418|         NULL|                NULL|                NULL|                NULL|   2.558773666551147|  13.098608939134854|21.288155374412703|   11.08939659151513|  26.228942160647552|  17.820519879365595|  25.657178380984284|34.292414031360565|35.23114234832502|   7.184213555035405|   32.45429560617806|30.457891499485683|  24.152182761344648|   40.50517729734071|  10.861379398554691|    9.42263073105726|9.354993602999784|6.779765326207957|5.775572164910826|348.69505447778096|\n",
      "|    min|\"smuttynose ipa \"...|      altbier|(512) brewing com...|\"hopworks urban b...|\"notes:\"\"100% bar...| 16 oz. \"\"tallboy...| \"\"raspberry-lamb...|      \"\"beer first| 30 ibu.ingredien...| & belgian beer c...| & black maltaddi...| a beer would mak...|            38 ibu|       3.8 srm\\t\"| and centennial h...| and our local gr...|               oak| and tannins will...| or hints of leat...| remember that be...| so don’t keep it...|              0.0|              0.0|              1.0|               0.0|\n",
      "|    max|   šamp - pivni sekt|winter warmer|    zatecký pivovar|zatecký pivovar ...|notes:”do you kno...|auburn-colored al...|” the rich first ...|                90|                 9.5|      mark & pete\\t\"|                  99|                  99|                99|               99|                  91|                  99|                99|                  99|                  99|                  98|                  95|            147.0|            178.0|            158.0|            3000.0|\n",
      "+-------+--------------------+-------------+--------------------+--------------------+--------------------+--------------------+--------------------+------------------+--------------------+--------------------+--------------------+--------------------+------------------+-----------------+--------------------+--------------------+------------------+--------------------+--------------------+--------------------+--------------------+-----------------+-----------------+-----------------+------------------+"
     ]
    }
   ],
   "source": [
    "df.describe().show()\n",
    "\n"
   ]
  },
  {
   "cell_type": "code",
   "execution_count": null,
   "id": "f08991fb",
   "metadata": {},
   "outputs": [
    {
     "data": {
      "application/vnd.jupyter.widget-view+json": {
       "model_id": "",
       "version_major": 2,
       "version_minor": 0
      },
      "text/plain": [
       "FloatProgress(value=0.0, bar_style='info', description='Progress:', layout=Layout(height='25px', width='50%'),…"
      ]
     },
     "metadata": {},
     "output_type": "display_data"
    },
    {
     "name": "stdout",
     "output_type": "stream",
     "text": [
      "+----+-----+-------+----------------+-----------+---+-------+-------+-----------+----+-------+------+-----+----+-----+------+-----+------+-----+------------+-----------------+-------------+------------+--------------+-----------------+\n",
      "|name|style|brewery|beer name (full)|description|abv|min ibu|max ibu|astringency|body|alcohol|bitter|sweet|sour|salty|fruits|hoppy|spices|malty|review_aroma|review_appearance|review_palate|review_taste|review_overall|number_of_reviews|\n",
      "+----+-----+-------+----------------+-----------+---+-------+-------+-----------+----+-------+------+-----+----+-----+------+-----+------+-----+------------+-----------------+-------------+------------+--------------+-----------------+\n",
      "|   0|    0|      0|               0|          0|  0|      0|      0|          0|   0|      0|     0|    0|   0|    0|     0|    0|     0|    0|           0|                0|            0|           0|             0|                0|\n",
      "+----+-----+-------+----------------+-----------+---+-------+-------+-----------+----+-------+------+-----+----+-----+------+-----+------+-----+------------+-----------------+-------------+------------+--------------+-----------------+"
     ]
    }
   ],
   "source": [
    "# Valores nulos por columna \n",
    "\n",
    "from pyspark.sql.functions import col, isnan, when, count\n",
    "\n",
    "df.select([\n",
    "    count(when(col(c).isNull() | isnan(c), c)).alias(c)\n",
    "    for c in df.columns\n",
    "]).show()\n"
   ]
  },
  {
   "cell_type": "code",
   "execution_count": null,
   "id": "9892c614",
   "metadata": {},
   "outputs": [
    {
     "data": {
      "application/vnd.jupyter.widget-view+json": {
       "model_id": "",
       "version_major": 2,
       "version_minor": 0
      },
      "text/plain": [
       "FloatProgress(value=0.0, bar_style='info', description='Progress:', layout=Layout(height='25px', width='50%'),…"
      ]
     },
     "metadata": {},
     "output_type": "display_data"
    },
    {
     "name": "stdout",
     "output_type": "stream",
     "text": [
      "+-------+--------------------+-------------+--------------------+--------------------+--------------------+--------------------+--------------------+------------------+--------------------+--------------------+--------------------+--------------------+------------------+-----------------+--------------------+--------------------+------------------+--------------------+--------------------+--------------------+--------------------+-----------------+-----------------+-----------------+------------------+\n",
      "|summary|                name|        style|             brewery|    beer name (full)|         description|                 abv|             min ibu|           max ibu|         astringency|                body|             alcohol|              bitter|             sweet|             sour|               salty|              fruits|             hoppy|              spices|               malty|        review_aroma|   review_appearance|    review_palate|     review_taste|   review_overall| number_of_reviews|\n",
      "+-------+--------------------+-------------+--------------------+--------------------+--------------------+--------------------+--------------------+------------------+--------------------+--------------------+--------------------+--------------------+------------------+-----------------+--------------------+--------------------+------------------+--------------------+--------------------+--------------------+--------------------+-----------------+-----------------+-----------------+------------------+\n",
      "|  count|                3197|         3197|                3197|                3197|                3197|                3197|                3197|              3197|                3197|                3197|                3197|                3197|              3197|             3197|                3197|                3197|              3197|                3197|                3197|                3197|                3197|             3197|             3197|             3197|              3197|\n",
      "|   mean|  1750.3333333333333|         NULL|                NULL|                NULL|                NULL|   6.515840103997408|   20.97809386049502| 38.56430715197957|  16.674094513162068|   45.46161871640847|  17.512105926860027|   35.91843926998112|57.301762114537446|33.01142139943521|    2.07217173299906|  38.042016280525985| 40.40892018779343|   18.81389236545682|   73.91645807259074|   5.122195504067581|  4.8675292559449455|4.725536550828906|4.218199457303734|4.152671371598376|   219.88084994401|\n",
      "| stddev|  174.55753588239418|         NULL|                NULL|                NULL|                NULL|   2.558773666551147|  13.098608939134854|21.288155374412703|   11.08939659151513|  26.228942160647552|  17.820519879365595|  25.657178380984284|34.292414031360565|35.23114234832502|   7.184213555035405|   32.45429560617806|30.457891499485683|  24.152182761344648|   40.50517729734071|  10.861379398554691|    9.42263073105726|9.354993602999784|6.779765326207957|5.775572164910826|348.69505447778096|\n",
      "|    min|\"smuttynose ipa \"...|      altbier|(512) brewing com...|\"hopworks urban b...|\"notes:\"\"100% bar...| 16 oz. \"\"tallboy...| \"\"raspberry-lamb...|      \"\"beer first| 30 ibu.ingredien...| & belgian beer c...| & black maltaddi...| a beer would mak...|            38 ibu|       3.8 srm\\t\"| and centennial h...| and our local gr...|               oak| and tannins will...| or hints of leat...| remember that be...| so don’t keep it...|              0.0|              0.0|              1.0|               0.0|\n",
      "|    max|   šamp - pivni sekt|winter warmer|    zatecký pivovar|zatecký pivovar ...|notes:”do you kno...|auburn-colored al...|” the rich first ...|                90|                 9.5|      mark & pete\\t\"|                  99|                  99|                99|               99|                  91|                  99|                99|                  99|                  99|                  98|                  95|            147.0|            178.0|            158.0|            3000.0|\n",
      "+-------+--------------------+-------------+--------------------+--------------------+--------------------+--------------------+--------------------+------------------+--------------------+--------------------+--------------------+--------------------+------------------+-----------------+--------------------+--------------------+------------------+--------------------+--------------------+--------------------+--------------------+-----------------+-----------------+-----------------+------------------+"
     ]
    }
   ],
   "source": [
    "# Estadísticas generales numéricas \n",
    "\n",
    "df.describe().show()\n"
   ]
  },
  {
   "cell_type": "code",
   "execution_count": null,
   "id": "57ac0c17",
   "metadata": {},
   "outputs": [
    {
     "data": {
      "application/vnd.jupyter.widget-view+json": {
       "model_id": "",
       "version_major": 2,
       "version_minor": 0
      },
      "text/plain": [
       "FloatProgress(value=0.0, bar_style='info', description='Progress:', layout=Layout(height='25px', width='50%'),…"
      ]
     },
     "metadata": {},
     "output_type": "display_data"
    },
    {
     "name": "stdout",
     "output_type": "stream",
     "text": [
      "+-------------+-----+\n",
      "|         name|count|\n",
      "+-------------+-----+\n",
      "|  oktoberfest|   12|\n",
      "|       porter|   10|\n",
      "|smoked porter|    9|\n",
      "|christmas ale|    6|\n",
      "|          ipa|    5|\n",
      "+-------------+-----+\n",
      "only showing top 5 rows\n",
      "\n",
      "+--------------------+-----+\n",
      "|               style|count|\n",
      "+--------------------+-----+\n",
      "|     lager - adjunct|   45|\n",
      "|lager - european ...|   43|\n",
      "|wheat beer - hefe...|   42|\n",
      "|   stout - irish dry|   42|\n",
      "|      lambic - fruit|   42|\n",
      "+--------------------+-----+\n",
      "only showing top 5 rows\n",
      "\n",
      "+--------------------+-----+\n",
      "|             brewery|count|\n",
      "+--------------------+-----+\n",
      "|boston beer compa...|   40|\n",
      "|dogfish head brewery|   31|\n",
      "|      anheuser-busch|   30|\n",
      "|three floyds brew...|   29|\n",
      "|victory brewing c...|   23|\n",
      "+--------------------+-----+\n",
      "only showing top 5 rows\n",
      "\n",
      "+--------------------+-----+\n",
      "|    beer name (full)|count|\n",
      "+--------------------+-----+\n",
      "|great lakes brewi...|    1|\n",
      "|arcense stoombier...|    1|\n",
      "|north coast brewi...|    1|\n",
      "|founders brewing ...|    1|\n",
      "|brasserie d'achou...|    1|\n",
      "+--------------------+-----+\n",
      "only showing top 5 rows\n",
      "\n",
      "+--------------------+-----+\n",
      "|         description|count|\n",
      "+--------------------+-----+\n",
      "|              notes:| 1347|\n",
      "|      notes:21 ibu\\t|    3|\n",
      "|      notes:22 ibu\\t|    2|\n",
      "|notes:the essence...|    2|\n",
      "|notes:busch and b...|    2|\n",
      "+--------------------+-----+\n",
      "only showing top 5 rows\n",
      "\n",
      "+---+-----+\n",
      "|abv|count|\n",
      "+---+-----+\n",
      "|  5|  272|\n",
      "|5.5|  159|\n",
      "|  6|  153|\n",
      "|  8|  122|\n",
      "|  7|  118|\n",
      "+---+-----+\n",
      "only showing top 5 rows\n",
      "\n",
      "+-------+-----+\n",
      "|min ibu|count|\n",
      "+-------+-----+\n",
      "|     20|  692|\n",
      "|     15|  413|\n",
      "|     10|  337|\n",
      "|     25|  319|\n",
      "|     30|  181|\n",
      "+-------+-----+\n",
      "only showing top 5 rows\n",
      "\n",
      "+-------+-----+\n",
      "|max ibu|count|\n",
      "+-------+-----+\n",
      "|     40|  478|\n",
      "|     30|  473|\n",
      "|     25|  390|\n",
      "|     50|  195|\n",
      "|     45|  188|\n",
      "+-------+-----+\n",
      "only showing top 5 rows\n",
      "\n",
      "+-----------+-----+\n",
      "|astringency|count|\n",
      "+-----------+-----+\n",
      "|         10|  159|\n",
      "|         15|  153|\n",
      "|         13|  152|\n",
      "|         12|  143|\n",
      "|         11|  141|\n",
      "+-----------+-----+\n",
      "only showing top 5 rows\n",
      "\n",
      "+----+-----+\n",
      "|body|count|\n",
      "+----+-----+\n",
      "|  32|   85|\n",
      "|  30|   81|\n",
      "|  38|   76|\n",
      "|  31|   71|\n",
      "|  34|   70|\n",
      "+----+-----+\n",
      "only showing top 5 rows\n",
      "\n",
      "+-------+-----+\n",
      "|alcohol|count|\n",
      "+-------+-----+\n",
      "|      7|  197|\n",
      "|      6|  188|\n",
      "|      8|  171|\n",
      "|      5|  168|\n",
      "|      9|  158|\n",
      "+-------+-----+\n",
      "only showing top 5 rows\n",
      "\n",
      "+------+-----+\n",
      "|bitter|count|\n",
      "+------+-----+\n",
      "|    25|   77|\n",
      "|    24|   71|\n",
      "|    18|   67|\n",
      "|    16|   65|\n",
      "|    17|   63|\n",
      "+------+-----+\n",
      "only showing top 5 rows\n",
      "\n",
      "+-----+-----+\n",
      "|sweet|count|\n",
      "+-----+-----+\n",
      "|   52|   53|\n",
      "|   48|   51|\n",
      "|   47|   50|\n",
      "|   65|   50|\n",
      "|   62|   48|\n",
      "+-----+-----+\n",
      "only showing top 5 rows\n",
      "\n",
      "+----+-----+\n",
      "|sour|count|\n",
      "+----+-----+\n",
      "|  10|  107|\n",
      "|   9|  100|\n",
      "|  11|   95|\n",
      "|  13|   93|\n",
      "|   4|   87|\n",
      "+----+-----+\n",
      "only showing top 5 rows\n",
      "\n",
      "+-----+-----+\n",
      "|salty|count|\n",
      "+-----+-----+\n",
      "|    0| 1842|\n",
      "|    1|  560|\n",
      "|    2|  258|\n",
      "|    3|  182|\n",
      "|    4|   91|\n",
      "+-----+-----+\n",
      "only showing top 5 rows\n",
      "\n",
      "+------+-----+\n",
      "|fruits|count|\n",
      "+------+-----+\n",
      "|     6|   80|\n",
      "|     5|   77|\n",
      "|     9|   69|\n",
      "|     7|   69|\n",
      "|     3|   68|\n",
      "+------+-----+\n",
      "only showing top 5 rows\n",
      "\n",
      "+-----+-----+\n",
      "|hoppy|count|\n",
      "+-----+-----+\n",
      "|   16|   71|\n",
      "|   20|   65|\n",
      "|   14|   63|\n",
      "|   25|   60|\n",
      "|   24|   59|\n",
      "+-----+-----+\n",
      "only showing top 5 rows\n",
      "\n",
      "+------+-----+\n",
      "|spices|count|\n",
      "+------+-----+\n",
      "|     4|  190|\n",
      "|     3|  175|\n",
      "|     2|  162|\n",
      "|     7|  154|\n",
      "|     0|  153|\n",
      "+------+-----+\n",
      "only showing top 5 rows\n",
      "\n",
      "+-----+-----+\n",
      "|malty|count|\n",
      "+-----+-----+\n",
      "|   47|   40|\n",
      "|   80|   38|\n",
      "|   64|   36|\n",
      "|   97|   35|\n",
      "|   30|   35|\n",
      "+-----+-----+\n",
      "only showing top 5 rows\n",
      "\n",
      "+------------+-----+\n",
      "|review_aroma|count|\n",
      "+------------+-----+\n",
      "|         3.5|   80|\n",
      "|           4|   79|\n",
      "|        3.75|   46|\n",
      "|    3.666667|   33|\n",
      "|        3.25|   30|\n",
      "+------------+-----+\n",
      "only showing top 5 rows\n",
      "\n",
      "+-----------------+-----+\n",
      "|review_appearance|count|\n",
      "+-----------------+-----+\n",
      "|                4|  104|\n",
      "|              3.5|   56|\n",
      "|             3.75|   53|\n",
      "|                3|   33|\n",
      "|         3.666667|   29|\n",
      "+-----------------+-----+\n",
      "only showing top 5 rows\n",
      "\n",
      "+-------------+-----+\n",
      "|review_palate|count|\n",
      "+-------------+-----+\n",
      "|          4.0|   90|\n",
      "|          3.5|   67|\n",
      "|         3.75|   44|\n",
      "|          3.0|   35|\n",
      "|     3.833333|   22|\n",
      "+-------------+-----+\n",
      "only showing top 5 rows\n",
      "\n",
      "+------------+-----+\n",
      "|review_taste|count|\n",
      "+------------+-----+\n",
      "|         4.0|   87|\n",
      "|         3.5|   69|\n",
      "|        3.75|   44|\n",
      "|         4.5|   36|\n",
      "|         3.0|   24|\n",
      "+------------+-----+\n",
      "only showing top 5 rows\n",
      "\n",
      "+--------------+-----+\n",
      "|review_overall|count|\n",
      "+--------------+-----+\n",
      "|           4.0|   97|\n",
      "|           3.5|   60|\n",
      "|          3.75|   45|\n",
      "|           4.5|   26|\n",
      "|      3.666667|   24|\n",
      "+--------------+-----+\n",
      "only showing top 5 rows\n",
      "\n",
      "+-----------------+-----+\n",
      "|number_of_reviews|count|\n",
      "+-----------------+-----+\n",
      "|              2.0|   80|\n",
      "|              1.0|   71|\n",
      "|              3.0|   67|\n",
      "|              4.0|   61|\n",
      "|              5.0|   42|\n",
      "+-----------------+-----+\n",
      "only showing top 5 rows"
     ]
    }
   ],
   "source": [
    "# Estadísticas generales\n",
    "\n",
    "for c in df.columns:\n",
    "    df.groupBy(c).count().orderBy(\"count\", ascending=False).show(5)\n"
   ]
  },
  {
   "cell_type": "code",
   "execution_count": null,
   "id": "267c8580",
   "metadata": {},
   "outputs": [
    {
     "data": {
      "application/vnd.jupyter.widget-view+json": {
       "model_id": "",
       "version_major": 2,
       "version_minor": 0
      },
      "text/plain": [
       "FloatProgress(value=0.0, bar_style='info', description='Progress:', layout=Layout(height='25px', width='50%'),…"
      ]
     },
     "metadata": {},
     "output_type": "display_data"
    },
    {
     "name": "stdout",
     "output_type": "stream",
     "text": [
      "934"
     ]
    }
   ],
   "source": [
    "# Contar valores únicos\n",
    "\n",
    "df.select(\"name\").distinct().count()\n",
    "df.select(\"style\").distinct().count()\n",
    "df.select(\"brewery\").distinct().count()\n"
   ]
  },
  {
   "cell_type": "markdown",
   "id": "34c0b810",
   "metadata": {},
   "source": [
    "### Tabla de variables del dataset \n",
    "\n",
    "| Variable              | Tipo       | Descripción                                                                 |\n",
    "|-----------------------|------------|-----------------------------------------------------------------------------|\n",
    "| `name`                | Categórica | Nombre corto de la cerveza                                                 |\n",
    "| `style`               | Categórica | Estilo de cerveza (e.g., IPA, Lager, Stout)                                |\n",
    "| `brewery`             | Categórica | Nombre de la cervecería                                                    |\n",
    "| `beer name (full)`    | Texto      | Nombre completo o extendido de la cerveza                                  |\n",
    "| `description`         | Texto      | Descripción sensorial de la cerveza                                        |\n",
    "| `abv`                 | Numérica   | Alcohol by Volume (%), contenido alcohólico                                |\n",
    "| `min ibu`             | Numérica   | Valor mínimo de International Bitterness Units si se conoce                |\n",
    "| `max ibu`             | Numérica   | Valor máximo de IBU si se conoce                                           |\n",
    "| `astringency`         | Numérica   | Sensación de sequedad en boca (0–5)                                        |\n",
    "| `body`                | Numérica   | Cuerpo o densidad percibida (0–5)                                          |\n",
    "| `alcohol`             | Numérica   | Percepción del alcohol (0–5)                                               |\n",
    "| `bitter`              | Numérica   | Intensidad del sabor amargo (0–5)                                          |\n",
    "| `sweet`               | Numérica   | Intensidad del sabor dulce (0–5)                                           |\n",
    "| `sour`                | Numérica   | Intensidad del sabor ácido (0–5)                                           |\n",
    "| `salty`               | Numérica   | Percepción salada (0–5)                                                    |\n",
    "| `fruits`              | Numérica   | Intensidad de notas frutales (0–5)                                         |\n",
    "| `hoppy`               | Numérica   | Intensidad de lúpulo (0–5)                                                 |\n",
    "| `spices`              | Numérica   | Percepción de especias (0–5)                                               |\n",
    "| `malty`               | Numérica   | Intensidad de maltosidad (0–5)                                             |\n",
    "| `review_aroma`        | Numérica   | Calificación del aroma por usuarios (0–5)                                  |\n",
    "| `review_appearance`   | Numérica   | Calificación de apariencia por usuarios (0–5)                              |\n",
    "| `review_palate`       | Numérica   | Calificación del paladar por usuarios (0–5)                                |\n",
    "| `review_taste`        | Numérica   | Calificación del sabor por usuarios (0–5)                                  |\n",
    "| `review_overall`      | Numérica   | Calificación global por usuarios (0–5)                                     |\n",
    "| `number_of_reviews`   | Entera     | Número total de reseñas registradas                                        |\n"
   ]
  },
  {
   "cell_type": "code",
   "execution_count": null,
   "id": "7ee3deac",
   "metadata": {},
   "outputs": [
    {
     "data": {
      "application/vnd.jupyter.widget-view+json": {
       "model_id": "",
       "version_major": 2,
       "version_minor": 0
      },
      "text/plain": [
       "FloatProgress(value=0.0, bar_style='info', description='Progress:', layout=Layout(height='25px', width='50%'),…"
      ]
     },
     "metadata": {},
     "output_type": "display_data"
    }
   ],
   "source": [
    "# Renombrar columnas\n",
    "\n",
    "df = df.toDF(*[c.strip().lower().replace(\" \", \"_\").replace(\"(\", \"\").replace(\")\", \"\") for c in df.columns])\n"
   ]
  },
  {
   "cell_type": "code",
   "execution_count": null,
   "id": "f468897b",
   "metadata": {},
   "outputs": [
    {
     "data": {
      "application/vnd.jupyter.widget-view+json": {
       "model_id": "",
       "version_major": 2,
       "version_minor": 0
      },
      "text/plain": [
       "FloatProgress(value=0.0, bar_style='info', description='Progress:', layout=Layout(height='25px', width='50%'),…"
      ]
     },
     "metadata": {},
     "output_type": "display_data"
    }
   ],
   "source": [
    "# Seleccionar columnas numéricas \n",
    "\n",
    "numerical_cols = [\n",
    "    'abv', 'min_ibu', 'max_ibu', 'astringency', 'body', 'alcohol', 'bitter',\n",
    "    'sweet', 'sour', 'salty', 'fruits', 'hoppy', 'spices', 'malty',\n",
    "    'review_aroma', 'review_appearance', 'review_palate',\n",
    "    'review_taste', 'review_overall', 'number_of_reviews'\n",
    "]\n"
   ]
  },
  {
   "cell_type": "code",
   "execution_count": null,
   "id": "7b5a6746",
   "metadata": {},
   "outputs": [
    {
     "data": {
      "application/vnd.jupyter.widget-view+json": {
       "model_id": "",
       "version_major": 2,
       "version_minor": 0
      },
      "text/plain": [
       "FloatProgress(value=0.0, bar_style='info', description='Progress:', layout=Layout(height='25px', width='50%'),…"
      ]
     },
     "metadata": {},
     "output_type": "display_data"
    },
    {
     "name": "stdout",
     "output_type": "stream",
     "text": [
      "root\n",
      " |-- abv: float (nullable = true)\n",
      " |-- min_ibu: float (nullable = true)\n",
      " |-- max_ibu: float (nullable = true)\n",
      " |-- astringency: float (nullable = true)\n",
      " |-- body: float (nullable = true)\n",
      " |-- alcohol: float (nullable = true)\n",
      " |-- bitter: float (nullable = true)\n",
      " |-- sweet: float (nullable = true)\n",
      " |-- sour: float (nullable = true)\n",
      " |-- salty: float (nullable = true)\n",
      " |-- fruits: float (nullable = true)\n",
      " |-- hoppy: float (nullable = true)\n",
      " |-- spices: float (nullable = true)\n",
      " |-- malty: float (nullable = true)\n",
      " |-- review_aroma: float (nullable = true)\n",
      " |-- review_appearance: float (nullable = true)\n",
      " |-- review_palate: float (nullable = true)\n",
      " |-- review_taste: float (nullable = true)\n",
      " |-- review_overall: float (nullable = true)\n",
      " |-- number_of_reviews: float (nullable = true)"
     ]
    }
   ],
   "source": [
    "# Convertir columnas numéricas que aún están como string\n",
    "\n",
    "from pyspark.sql.functions import col\n",
    "\n",
    "for c in numerical_cols:\n",
    "    df = df.withColumn(c, col(c).cast(\"float\"))\n",
    "\n",
    "df.select(numerical_cols).printSchema()\n"
   ]
  },
  {
   "cell_type": "code",
   "execution_count": null,
   "id": "cab5e282",
   "metadata": {},
   "outputs": [
    {
     "data": {
      "application/vnd.jupyter.widget-view+json": {
       "model_id": "",
       "version_major": 2,
       "version_minor": 0
      },
      "text/plain": [
       "FloatProgress(value=0.0, bar_style='info', description='Progress:', layout=Layout(height='25px', width='50%'),…"
      ]
     },
     "metadata": {},
     "output_type": "display_data"
    },
    {
     "name": "stdout",
     "output_type": "stream",
     "text": [
      "abv                 : ['1.00', '0.49', '0.54', '-0.14', '0.31', '0.52', '0.11', '0.48', '0.09', '-0.36', '0.28', '-0.02', '0.11', '0.21', '-0.29', '-0.25', '-0.24', '-0.15', '-0.14', '0.17']\n",
      "min_ibu             : ['0.49', '1.00', '0.86', '-0.04', '0.37', '0.28', '0.54', '0.27', '-0.06', '-0.22', '0.08', '0.40', '-0.07', '0.33', '-0.15', '-0.17', '-0.16', '-0.09', '-0.09', '0.23']\n",
      "max_ibu             : ['0.54', '0.86', '1.00', '-0.05', '0.35', '0.35', '0.48', '0.32', '-0.02', '-0.21', '0.17', '0.34', '0.03', '0.31', '-0.13', '-0.18', '-0.18', '-0.11', '-0.10', '0.23']\n",
      "astringency         : ['-0.14', '-0.04', '-0.05', '1.00', '-0.03', '-0.09', '0.11', '0.01', '0.55', '0.16', '0.27', '0.30', '-0.03', '-0.09', '0.14', '-0.08', '-0.13', '-0.11', '-0.09', '-0.04']\n",
      "body                : ['0.31', '0.37', '0.35', '-0.03', '1.00', '0.24', '0.55', '0.48', '-0.12', '-0.16', '-0.03', '0.07', '0.14', '0.74', '-0.14', '-0.11', '-0.13', '-0.10', '-0.10', '0.07']\n",
      "alcohol             : ['0.52', '0.28', '0.35', '-0.09', '0.24', '1.00', '0.00', '0.50', '0.08', '0.08', '0.24', '-0.08', '0.26', '0.23', '0.16', '-0.00', '0.03', '-0.01', '-0.05', '0.03']\n",
      "bitter              : ['0.11', '0.54', '0.48', '0.11', '0.55', '0.00', '1.00', '0.11', '-0.12', '-0.06', '-0.08', '0.70', '-0.09', '0.56', '-0.07', '-0.03', '-0.09', '-0.03', '-0.05', '0.13']\n",
      "sweet               : ['0.48', '0.27', '0.32', '0.01', '0.48', '0.50', '0.11', '1.00', '0.26', '-0.14', '0.47', '-0.02', '0.08', '0.47', '-0.07', '-0.13', '-0.06', '-0.06', '-0.07', '0.06']\n",
      "sour                : ['0.09', '-0.06', '-0.02', '0.55', '-0.12', '0.08', '-0.12', '0.26', '1.00', '0.05', '0.75', '0.08', '0.02', '-0.29', '0.07', '-0.02', '-0.02', '0.02', '-0.02', '0.01']\n",
      "salty               : ['-0.36', '-0.22', '-0.21', '0.16', '-0.16', '0.08', '-0.06', '-0.14', '0.05', '1.00', '0.00', '-0.00', '0.12', '-0.13', '0.54', '0.52', '0.51', '0.16', '0.26', '-0.10']\n",
      "fruits              : ['0.28', '0.08', '0.17', '0.27', '-0.03', '0.24', '-0.08', '0.47', '0.75', '0.00', '1.00', '0.11', '0.14', '-0.17', '-0.04', '0.00', '0.06', '-0.00', '-0.01', '0.11']\n",
      "hoppy               : ['-0.02', '0.40', '0.34', '0.30', '0.07', '-0.08', '0.70', '-0.02', '0.08', '-0.00', '0.11', '1.00', '-0.13', '0.19', '-0.02', '-0.07', '0.00', '0.02', '-0.01', '0.10']\n",
      "spices              : ['0.11', '-0.07', '0.03', '-0.03', '0.14', '0.26', '-0.09', '0.08', '0.02', '0.12', '0.14', '-0.13', '1.00', '0.03', '0.13', '0.09', '0.02', '0.07', '0.10', '-0.03']\n",
      "malty               : ['0.21', '0.33', '0.31', '-0.09', '0.74', '0.23', '0.56', '0.47', '-0.29', '-0.13', '-0.17', '0.19', '0.03', '1.00', '-0.13', '-0.06', '-0.07', '-0.08', '-0.05', '0.03']\n",
      "review_aroma        : ['-0.29', '-0.15', '-0.13', '0.14', '-0.14', '0.16', '-0.07', '-0.07', '0.07', '0.54', '-0.04', '-0.02', '0.13', '-0.13', '1.00', '0.18', '0.42', '0.19', '0.14', '-0.07']\n",
      "review_appearance   : ['-0.25', '-0.17', '-0.18', '-0.08', '-0.11', '-0.00', '-0.03', '-0.13', '-0.02', '0.52', '0.00', '-0.07', '0.09', '-0.06', '0.18', '1.00', '0.30', '0.22', '0.37', '-0.06']\n",
      "review_palate       : ['-0.24', '-0.16', '-0.18', '-0.13', '-0.13', '0.03', '-0.09', '-0.06', '-0.02', '0.51', '0.06', '0.00', '0.02', '-0.07', '0.42', '0.30', '1.00', '0.30', '0.44', '-0.06']\n",
      "review_taste        : ['-0.15', '-0.09', '-0.11', '-0.11', '-0.10', '-0.01', '-0.03', '-0.06', '0.02', '0.16', '-0.00', '0.02', '0.07', '-0.08', '0.19', '0.22', '0.30', '1.00', '0.32', '-0.03']\n",
      "review_overall      : ['-0.14', '-0.09', '-0.10', '-0.09', '-0.10', '-0.05', '-0.05', '-0.07', '-0.02', '0.26', '-0.01', '-0.01', '0.10', '-0.05', '0.14', '0.37', '0.44', '0.32', '1.00', '-0.03']\n",
      "number_of_reviews   : ['0.17', '0.23', '0.23', '-0.04', '0.07', '0.03', '0.13', '0.06', '0.01', '-0.10', '0.11', '0.10', '-0.03', '0.03', '-0.07', '-0.06', '-0.06', '-0.03', '-0.03', '1.00']"
     ]
    }
   ],
   "source": [
    "# Matriz de correlación\n",
    "\n",
    "from pyspark.sql.functions import col\n",
    "\n",
    "for c in numerical_cols:\n",
    "    df = df.withColumn(c, col(c).cast(\"float\"))\n",
    "    \n",
    "    correlaciones = []\n",
    "    \n",
    "for col1 in numerical_cols:\n",
    "    fila = []\n",
    "    for col2 in numerical_cols:\n",
    "        corr = df.stat.corr(col1, col2)\n",
    "        fila.append(corr)\n",
    "    correlaciones.append(fila)\n",
    "    \n",
    "# Imprimir como matriz\n",
    "for i, row in enumerate(correlaciones):\n",
    "    nombre_col = numerical_cols[i]\n",
    "    fila_redondeada = [f\"{v:.2f}\" if v is not None else \"None\" for v in row]\n",
    "    print(f\"{nombre_col:20}: {fila_redondeada}\")\n",
    "\n",
    "\n"
   ]
  },
  {
   "cell_type": "markdown",
   "id": "fe114d13",
   "metadata": {},
   "source": [
    "### Selección de columnas relevantes, ajustaremos más adelante con la encuesta"
   ]
  },
  {
   "cell_type": "code",
   "execution_count": null,
   "id": "3668e8a1",
   "metadata": {},
   "outputs": [
    {
     "data": {
      "application/vnd.jupyter.widget-view+json": {
       "model_id": "",
       "version_major": 2,
       "version_minor": 0
      },
      "text/plain": [
       "FloatProgress(value=0.0, bar_style='info', description='Progress:', layout=Layout(height='25px', width='50%'),…"
      ]
     },
     "metadata": {},
     "output_type": "display_data"
    },
    {
     "name": "stdout",
     "output_type": "stream",
     "text": [
      "['name', 'style', 'brewery', 'beer_name_full', 'description', 'abv', 'min_ibu', 'max_ibu', 'astringency', 'body', 'alcohol', 'bitter', 'sweet', 'sour', 'salty', 'fruits', 'hoppy', 'spices', 'malty', 'review_aroma', 'review_appearance', 'review_palate', 'review_taste', 'review_overall', 'number_of_reviews']"
     ]
    }
   ],
   "source": [
    "print(df.columns)\n"
   ]
  },
  {
   "cell_type": "code",
   "execution_count": null,
   "id": "1ce4f8f3",
   "metadata": {},
   "outputs": [
    {
     "data": {
      "application/vnd.jupyter.widget-view+json": {
       "model_id": "",
       "version_major": 2,
       "version_minor": 0
      },
      "text/plain": [
       "FloatProgress(value=0.0, bar_style='info', description='Progress:', layout=Layout(height='25px', width='50%'),…"
      ]
     },
     "metadata": {},
     "output_type": "display_data"
    },
    {
     "name": "stdout",
     "output_type": "stream",
     "text": [
      "root\n",
      " |-- abv: float (nullable = true)\n",
      " |-- astringency: float (nullable = true)\n",
      " |-- body: float (nullable = true)\n",
      " |-- alcohol: float (nullable = true)\n",
      " |-- bitter: float (nullable = true)\n",
      " |-- sweet: float (nullable = true)\n",
      " |-- sour: float (nullable = true)\n",
      " |-- salty: float (nullable = true)\n",
      " |-- fruits: float (nullable = true)\n",
      " |-- hoppy: float (nullable = true)\n",
      " |-- spices: float (nullable = true)\n",
      " |-- malty: float (nullable = true)\n",
      " |-- review_aroma: float (nullable = true)\n",
      " |-- review_appearance: float (nullable = true)\n",
      " |-- review_palate: float (nullable = true)\n",
      " |-- review_taste: float (nullable = true)\n",
      " |-- review_overall: float (nullable = true)"
     ]
    }
   ],
   "source": [
    "df.select(*feature_cols).printSchema()\n"
   ]
  },
  {
   "cell_type": "code",
   "execution_count": null,
   "id": "8a5abed4",
   "metadata": {},
   "outputs": [
    {
     "data": {
      "application/vnd.jupyter.widget-view+json": {
       "model_id": "",
       "version_major": 2,
       "version_minor": 0
      },
      "text/plain": [
       "FloatProgress(value=0.0, bar_style='info', description='Progress:', layout=Layout(height='25px', width='50%'),…"
      ]
     },
     "metadata": {},
     "output_type": "display_data"
    }
   ],
   "source": [
    "from pyspark.ml.feature import VectorAssembler, StandardScaler\n",
    "from pyspark.sql.functions import col\n",
    "\n",
    "# 1. Definir columnas numéricas de interés\n",
    "feature_cols = [\n",
    "    'abv', 'astringency', 'body', 'alcohol', 'bitter',\n",
    "    'sweet', 'sour', 'salty', 'fruits', 'hoppy', 'spices', 'malty',\n",
    "    'review_aroma', 'review_appearance', 'review_palate', 'review_taste', 'review_overall'\n",
    "]\n",
    "\n",
    "# 2. Subset del DataFrame y eliminar nulos en esas columnas\n",
    "df_features = df.select(\"name\", *feature_cols)\n",
    "df_features_clean = df_features.dropna(subset=feature_cols)\n",
    "\n",
    "# 3. VectorAssembler (corregido para incluir 'name')\n",
    "assembler = VectorAssembler(inputCols=feature_cols, outputCol=\"features_vec\")\n",
    "\n",
    "# Seleccionamos 'name' + las columnas sensoriales\n",
    "df_ensamblado = df_features_clean.select(\"name\", *feature_cols)\n",
    "\n",
    "# Aplicamos el ensamblador (agrega la columna 'features_vec')\n",
    "df_ensamblado = assembler.transform(df_ensamblado)\n",
    "\n",
    "\n",
    "# 4. StandardScaler\n",
    "scaler = StandardScaler(inputCol=\"features_vec\", outputCol=\"features_scaled\", withMean=True, withStd=True)\n",
    "scaler_model = scaler.fit(df_ensamblado)\n",
    "df_scaled = scaler_model.transform(df_ensamblado)\n"
   ]
  },
  {
   "cell_type": "markdown",
   "id": "206f2fd3",
   "metadata": {},
   "source": [
    "### KNN"
   ]
  },
  {
   "cell_type": "code",
   "execution_count": null,
   "id": "b1002605",
   "metadata": {},
   "outputs": [
    {
     "data": {
      "application/vnd.jupyter.widget-view+json": {
       "model_id": "",
       "version_major": 2,
       "version_minor": 0
      },
      "text/plain": [
       "FloatProgress(value=0.0, bar_style='info', description='Progress:', layout=Layout(height='25px', width='50%'),…"
      ]
     },
     "metadata": {},
     "output_type": "display_data"
    }
   ],
   "source": [
    "from pyspark.ml.linalg import Vectors\n",
    "from pyspark.sql.functions import col, udf\n",
    "from pyspark.sql.types import DoubleType\n",
    "import numpy as np\n",
    "\n",
    "# Función para calcular distancia coseno entre dos vectores\n",
    "def cosine_distance_udf(vec1):\n",
    "    def distancia(vec2):\n",
    "        dot = float(vec1.dot(vec2))\n",
    "        norm1 = float(vec1.norm(2))\n",
    "        norm2 = float(vec2.norm(2))\n",
    "        if norm1 == 0.0 or norm2 == 0.0:\n",
    "            return float(\"nan\")\n",
    "        return 1 - dot / (norm1 * norm2)\n",
    "    return udf(distancia, DoubleType())\n"
   ]
  },
  {
   "cell_type": "code",
   "execution_count": null,
   "id": "47bc62e4",
   "metadata": {},
   "outputs": [
    {
     "data": {
      "application/vnd.jupyter.widget-view+json": {
       "model_id": "",
       "version_major": 2,
       "version_minor": 0
      },
      "text/plain": [
       "FloatProgress(value=0.0, bar_style='info', description='Progress:', layout=Layout(height='25px', width='50%'),…"
      ]
     },
     "metadata": {},
     "output_type": "display_data"
    }
   ],
   "source": [
    "# Por ejemplo: \"amber\"\n",
    "nombre_base = \"amber\"\n",
    "\n",
    "# Obtener el vector escalado de esa cerveza\n",
    "vector_base = df_scaled.filter(col(\"name\") == nombre_base).select(\"features_scaled\").first()[\"features_scaled\"]\n"
   ]
  },
  {
   "cell_type": "code",
   "execution_count": null,
   "id": "c3c0cc9e",
   "metadata": {},
   "outputs": [
    {
     "data": {
      "application/vnd.jupyter.widget-view+json": {
       "model_id": "",
       "version_major": 2,
       "version_minor": 0
      },
      "text/plain": [
       "FloatProgress(value=0.0, bar_style='info', description='Progress:', layout=Layout(height='25px', width='50%'),…"
      ]
     },
     "metadata": {},
     "output_type": "display_data"
    },
    {
     "name": "stdout",
     "output_type": "stream",
     "text": [
      "+------------------------+-------------------+\n",
      "|name                    |cosine_distance    |\n",
      "+------------------------+-------------------+\n",
      "|old thumper             |0.16093461570751988|\n",
      "|esb                     |0.16933200465095055|\n",
      "|special amber           |0.18608644763773452|\n",
      "|sawtooth                |0.19202900992627225|\n",
      "|bleeding buckeye red ale|0.21679615617313364|\n",
      "+------------------------+-------------------+"
     ]
    }
   ],
   "source": [
    "# Agregar columna de distancia\n",
    "df_recomendaciones = df_scaled.withColumn(\"cosine_distance\", cosine_distance_udf(vector_base)(col(\"features_scaled\")))\n",
    "\n",
    "# Ordenar por similitud (excluyendo a sí misma)\n",
    "df_resultado = df_recomendaciones \\\n",
    "    .filter(col(\"name\") != nombre_base) \\\n",
    "    .select(\"name\", \"cosine_distance\") \\\n",
    "    .orderBy(\"cosine_distance\") \\\n",
    "    .limit(5)\n",
    "\n",
    "df_resultado.show(truncate=False)\n"
   ]
  },
  {
   "cell_type": "code",
   "execution_count": null,
   "id": "10a280e9",
   "metadata": {},
   "outputs": [
    {
     "data": {
      "application/vnd.jupyter.widget-view+json": {
       "model_id": "",
       "version_major": 2,
       "version_minor": 0
      },
      "text/plain": [
       "FloatProgress(value=0.0, bar_style='info', description='Progress:', layout=Layout(height='25px', width='50%'),…"
      ]
     },
     "metadata": {},
     "output_type": "display_data"
    }
   ],
   "source": [
    "import random\n",
    "\n",
    "def evaluar_recomendador(df_scaled, vector_col=\"features_scaled\", nombre_col=\"name\", muestras=100, top_k=5):\n",
    "    nombres = df_scaled.select(nombre_col).rdd.flatMap(lambda x: x).collect()\n",
    "    nombres_muestra = random.sample(nombres, min(muestras, len(nombres)))\n",
    "\n",
    "    distancias_promedio = []\n",
    "\n",
    "    for nombre in nombres_muestra:\n",
    "        # Vector base\n",
    "        vec_base = df_scaled.filter(col(nombre_col) == nombre).select(vector_col).first()[0]\n",
    "\n",
    "        # Calcular distancias\n",
    "        df_temp = df_scaled.withColumn(\"cosine_distance\", cosine_distance_udf(vec_base)(col(vector_col)))\n",
    "\n",
    "        # Excluirse a sí misma\n",
    "        recomendaciones = df_temp.filter(col(nombre_col) != nombre).select(\"cosine_distance\").orderBy(\"cosine_distance\").limit(top_k)\n",
    "\n",
    "        # Promedio de las k distancias\n",
    "        promedio = recomendaciones.selectExpr(\"avg(cosine_distance) as mean\").first()[\"mean\"]\n",
    "\n",
    "        if promedio is not None:\n",
    "            distancias_promedio.append(promedio)\n",
    "\n",
    "    return {\n",
    "        \"promedio\": np.mean(distancias_promedio),\n",
    "        \"desviacion\": np.std(distancias_promedio),\n",
    "        \"n evaluadas\": len(distancias_promedio)\n",
    "    }\n"
   ]
  },
  {
   "cell_type": "code",
   "execution_count": null,
   "id": "4d49043c",
   "metadata": {},
   "outputs": [
    {
     "data": {
      "application/vnd.jupyter.widget-view+json": {
       "model_id": "",
       "version_major": 2,
       "version_minor": 0
      },
      "text/plain": [
       "FloatProgress(value=0.0, bar_style='info', description='Progress:', layout=Layout(height='25px', width='50%'),…"
      ]
     },
     "metadata": {},
     "output_type": "display_data"
    },
    {
     "name": "stdout",
     "output_type": "stream",
     "text": [
      "Distancia promedio entre recomendaciones: 0.09124567120399148\n",
      "Desviaci?n est?ndar: 0.04524849900400114\n",
      "N?mero de cervezas evaluadas: 100"
     ]
    }
   ],
   "source": [
    "resultados = evaluar_recomendador(df_scaled, vector_col=\"features_scaled\", nombre_col=\"name\", muestras=100, top_k=5)\n",
    "\n",
    "print(\"Distancia promedio entre recomendaciones:\", resultados[\"promedio\"])\n",
    "print(\"Desviacion estándar:\", resultados[\"desviacion\"])\n",
    "print(\"Numero de cervezas evaluadas:\", resultados[\"n evaluadas\"])\n"
   ]
  },
  {
   "cell_type": "code",
   "execution_count": null,
   "id": "06f6f6f0",
   "metadata": {},
   "outputs": [],
   "source": []
  }
 ],
 "metadata": {
  "kernelspec": {
   "display_name": "arquitectura",
   "language": "python",
   "name": "python3"
  },
  "language_info": {
   "codemirror_mode": {
    "name": "python",
    "version": 3
   },
   "file_extension": ".py",
   "mimetype": "text/x-python",
   "name": "python",
   "pygments_lexer": "python3",
   "version": "3.11.11"
  }
 },
 "nbformat": 4,
 "nbformat_minor": 5
}
