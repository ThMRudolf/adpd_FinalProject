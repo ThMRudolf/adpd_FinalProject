{
 "cells": [
  {
   "cell_type": "code",
   "execution_count": 1,
   "id": "64832597",
   "metadata": {},
   "outputs": [],
   "source": [
    "%matplotlib inline"
   ]
  },
  {
   "cell_type": "code",
   "execution_count": 2,
   "id": "3a253023",
   "metadata": {},
   "outputs": [
    {
     "data": {
      "text/html": [
       "Current session configs: <tt>{'driverMemory': '1000M', 'executorCores': 2, 'proxyUser': 'jovyan', 'kind': 'pyspark'}</tt><br>"
      ],
      "text/plain": [
       "<IPython.core.display.HTML object>"
      ]
     },
     "metadata": {},
     "output_type": "display_data"
    },
    {
     "data": {
      "text/html": [
       "No active sessions."
      ],
      "text/plain": [
       "<IPython.core.display.HTML object>"
      ]
     },
     "metadata": {},
     "output_type": "display_data"
    }
   ],
   "source": [
    "%%info"
   ]
  },
  {
   "cell_type": "code",
   "execution_count": 3,
   "id": "c9f9b045",
   "metadata": {},
   "outputs": [
    {
     "data": {
      "text/html": [
       "Current session configs: <tt>{'conf': {'spark.pyspark.python': 'python', 'spark.pyspark.virtualenv.enabled': 'true', 'spark.pyspark.virtualenv.type': 'native', 'spark.pyspark.virtualenv.bin.path': '/usr/bin/virtualenv'}, 'proxyUser': 'jovyan', 'kind': 'pyspark'}</tt><br>"
      ],
      "text/plain": [
       "<IPython.core.display.HTML object>"
      ]
     },
     "metadata": {},
     "output_type": "display_data"
    },
    {
     "data": {
      "text/html": [
       "No active sessions."
      ],
      "text/plain": [
       "<IPython.core.display.HTML object>"
      ]
     },
     "metadata": {},
     "output_type": "display_data"
    }
   ],
   "source": [
    "%%configure -f\n",
    "{ \"conf\":{\n",
    "          \"spark.pyspark.python\": \"python\",\n",
    "          \"spark.pyspark.virtualenv.enabled\": \"true\",\n",
    "          \"spark.pyspark.virtualenv.type\":\"native\",\n",
    "          \"spark.pyspark.virtualenv.bin.path\":\"/usr/bin/virtualenv\"\n",
    "         }\n",
    "}\n"
   ]
  },
  {
   "cell_type": "code",
   "execution_count": 4,
   "id": "6167570f",
   "metadata": {},
   "outputs": [
    {
     "name": "stdout",
     "output_type": "stream",
     "text": [
      "Starting Spark application\n"
     ]
    },
    {
     "data": {
      "text/html": [
       "<table>\n",
       "<tr><th>ID</th><th>YARN Application ID</th><th>Kind</th><th>State</th><th>Spark UI</th><th>Driver log</th><th>User</th><th>Current session?</th></tr><tr><td>0</td><td>application_1748020001704_0001</td><td>pyspark</td><td>idle</td><td><a target=\"_blank\" href=\"http://ip-172-31-39-234.ec2.internal:20888/proxy/application_1748020001704_0001/\">Link</a></td><td><a target=\"_blank\" href=\"http://ip-172-31-45-148.ec2.internal:8042/node/containerlogs/container_1748020001704_0001_01_000001/livy\">Link</a></td><td>None</td><td>✔</td></tr></table>"
      ],
      "text/plain": [
       "<IPython.core.display.HTML object>"
      ]
     },
     "metadata": {},
     "output_type": "display_data"
    },
    {
     "data": {
      "application/vnd.jupyter.widget-view+json": {
       "model_id": "",
       "version_major": 2,
       "version_minor": 0
      },
      "text/plain": [
       "FloatProgress(value=0.0, bar_style='info', description='Progress:', layout=Layout(height='25px', width='50%'),…"
      ]
     },
     "metadata": {},
     "output_type": "display_data"
    },
    {
     "name": "stdout",
     "output_type": "stream",
     "text": [
      "SparkSession available as 'spark'.\n"
     ]
    },
    {
     "data": {
      "application/vnd.jupyter.widget-view+json": {
       "model_id": "",
       "version_major": 2,
       "version_minor": 0
      },
      "text/plain": [
       "FloatProgress(value=0.0, bar_style='info', description='Progress:', layout=Layout(height='25px', width='50%'),…"
      ]
     },
     "metadata": {},
     "output_type": "display_data"
    },
    {
     "name": "stdout",
     "output_type": "stream",
     "text": [
      "<pyspark.sql.session.SparkSession object at 0x7ff49c1d2910>"
     ]
    }
   ],
   "source": [
    "spark\n"
   ]
  },
  {
   "cell_type": "code",
   "execution_count": 5,
   "id": "08b9d7b7",
   "metadata": {},
   "outputs": [
    {
     "data": {
      "application/vnd.jupyter.widget-view+json": {
       "model_id": "",
       "version_major": 2,
       "version_minor": 0
      },
      "text/plain": [
       "FloatProgress(value=0.0, bar_style='info', description='Progress:', layout=Layout(height='25px', width='50%'),…"
      ]
     },
     "metadata": {},
     "output_type": "display_data"
    }
   ],
   "source": [
    "# Spark\n",
    "from pyspark.sql import SparkSession, DataFrame\n",
    "from pyspark.sql.window import Window\n",
    "\n",
    "# Tipos de datos\n",
    "from pyspark.sql.types import (\n",
    "    StringType, FloatType, IntegerType, DateType, StructType, StructField\n",
    ")\n",
    "\n",
    "# Funciones de PySpark\n",
    "from pyspark.sql.functions import (\n",
    "    col, lit, lower, trim, regexp_replace, udf\n",
    ")\n",
    "\n",
    "# Otros\n",
    "import unicodedata\n",
    "from functools import reduce\n",
    "import re\n",
    "\n"
   ]
  },
  {
   "cell_type": "code",
   "execution_count": 6,
   "id": "2dcc054f",
   "metadata": {},
   "outputs": [
    {
     "data": {
      "application/vnd.jupyter.widget-view+json": {
       "model_id": "",
       "version_major": 2,
       "version_minor": 0
      },
      "text/plain": [
       "FloatProgress(value=0.0, bar_style='info', description='Progress:', layout=Layout(height='25px', width='50%'),…"
      ]
     },
     "metadata": {},
     "output_type": "display_data"
    }
   ],
   "source": [
    "spark = SparkSession.builder \\\n",
    "    .appName(\"beer_final_project\") \\\n",
    "    .getOrCreate()"
   ]
  },
  {
   "cell_type": "code",
   "execution_count": 7,
   "id": "3596e15d",
   "metadata": {},
   "outputs": [
    {
     "data": {
      "application/vnd.jupyter.widget-view+json": {
       "model_id": "",
       "version_major": 2,
       "version_minor": 0
      },
      "text/plain": [
       "FloatProgress(value=0.0, bar_style='info', description='Progress:', layout=Layout(height='25px', width='50%'),…"
      ]
     },
     "metadata": {},
     "output_type": "display_data"
    },
    {
     "name": "stdout",
     "output_type": "stream",
     "text": [
      "Collecting pandas\n",
      "  Downloading pandas-2.2.3-cp39-cp39-manylinux_2_17_x86_64.manylinux2014_x86_64.whl (13.1 MB)\n",
      "Requirement already satisfied: pytz>=2020.1 in /usr/local/lib/python3.9/site-packages (from pandas) (2025.1)\n",
      "Collecting tzdata>=2022.7\n",
      "  Downloading tzdata-2025.2-py2.py3-none-any.whl (347 kB)\n",
      "Collecting python-dateutil>=2.8.2\n",
      "  Downloading python_dateutil-2.9.0.post0-py2.py3-none-any.whl (229 kB)\n",
      "Collecting numpy>=1.22.4\n",
      "  Downloading numpy-2.0.2-cp39-cp39-manylinux_2_17_x86_64.manylinux2014_x86_64.whl (19.5 MB)\n",
      "Requirement already satisfied: six>=1.5 in /usr/local/lib/python3.9/site-packages (from python-dateutil>=2.8.2->pandas) (1.13.0)\n",
      "Installing collected packages: tzdata, python-dateutil, numpy, pandas\n",
      "  Attempting uninstall: python-dateutil\n",
      "    Found existing installation: python-dateutil 2.8.1\n",
      "    Not uninstalling python-dateutil at /usr/lib/python3.9/site-packages, outside environment /mnt1/yarn/usercache/livy/appcache/application_1748020001704_0001/container_1748020001704_0001_01_000001/tmp/spark-3bebecfa-2d74-4c6f-ae4f-70a5ac19bc6a\n",
      "    Can't uninstall 'python-dateutil'. No files were found to uninstall.\n",
      "Successfully installed numpy-2.0.2 pandas-2.2.3 python-dateutil-2.9.0.post0 tzdata-2025.2\n",
      "\n",
      "WARNING: The directory '/home/.cache/pip' or its parent directory is not owned or is not writable by the current user. The cache has been disabled. Check the permissions and owner of that directory. If executing pip with sudo, you should use sudo's -H flag.\n",
      "ERROR: pip's dependency resolver does not currently take into account all the packages that are installed. This behaviour is the source of the following dependency conflicts.\n",
      "awscli 2.23.11 requires python-dateutil<=2.9.0,>=2.1, but you have python-dateutil 2.9.0.post0 which is incompatible."
     ]
    }
   ],
   "source": [
    "spark._sc.install_pypi_package(\"pandas\")"
   ]
  },
  {
   "cell_type": "code",
   "execution_count": 8,
   "id": "0d64d3fe",
   "metadata": {},
   "outputs": [
    {
     "data": {
      "application/vnd.jupyter.widget-view+json": {
       "model_id": "",
       "version_major": 2,
       "version_minor": 0
      },
      "text/plain": [
       "FloatProgress(value=0.0, bar_style='info', description='Progress:', layout=Layout(height='25px', width='50%'),…"
      ]
     },
     "metadata": {},
     "output_type": "display_data"
    },
    {
     "name": "stdout",
     "output_type": "stream",
     "text": [
      "Collecting matplotlib\n",
      "  Downloading matplotlib-3.9.4-cp39-cp39-manylinux_2_17_x86_64.manylinux2014_x86_64.whl (8.3 MB)\n",
      "Requirement already satisfied: python-dateutil>=2.7 in ./tmp/spark-3bebecfa-2d74-4c6f-ae4f-70a5ac19bc6a/lib/python3.9/site-packages (from matplotlib) (2.9.0.post0)\n",
      "Collecting fonttools>=4.22.0\n",
      "  Downloading fonttools-4.58.0-cp39-cp39-manylinux_2_17_x86_64.manylinux2014_x86_64.whl (4.7 MB)\n",
      "Collecting cycler>=0.10\n",
      "  Downloading cycler-0.12.1-py3-none-any.whl (8.3 kB)\n",
      "Collecting pillow>=8\n",
      "  Downloading pillow-11.2.1-cp39-cp39-manylinux_2_28_x86_64.whl (4.6 MB)\n",
      "Collecting kiwisolver>=1.3.1\n",
      "  Downloading kiwisolver-1.4.7-cp39-cp39-manylinux_2_12_x86_64.manylinux2010_x86_64.whl (1.6 MB)\n",
      "Collecting importlib-resources>=3.2.0\n",
      "  Downloading importlib_resources-6.5.2-py3-none-any.whl (37 kB)\n",
      "Requirement already satisfied: numpy>=1.23 in ./tmp/spark-3bebecfa-2d74-4c6f-ae4f-70a5ac19bc6a/lib64/python3.9/site-packages (from matplotlib) (2.0.2)\n",
      "Requirement already satisfied: packaging>=20.0 in /usr/lib/python3.9/site-packages (from matplotlib) (21.3)\n",
      "Requirement already satisfied: pyparsing>=2.3.1 in /usr/lib/python3.9/site-packages (from matplotlib) (2.4.7)\n",
      "Collecting contourpy>=1.0.1\n",
      "  Downloading contourpy-1.3.0-cp39-cp39-manylinux_2_17_x86_64.manylinux2014_x86_64.whl (321 kB)\n",
      "Collecting zipp>=3.1.0\n",
      "  Downloading zipp-3.21.0-py3-none-any.whl (9.6 kB)\n",
      "Requirement already satisfied: six>=1.5 in /usr/local/lib/python3.9/site-packages (from python-dateutil>=2.7->matplotlib) (1.13.0)\n",
      "Installing collected packages: zipp, pillow, kiwisolver, importlib-resources, fonttools, cycler, contourpy, matplotlib\n",
      "Successfully installed contourpy-1.3.0 cycler-0.12.1 fonttools-4.58.0 importlib-resources-6.5.2 kiwisolver-1.4.7 matplotlib-3.9.4 pillow-11.2.1 zipp-3.21.0\n",
      "\n",
      "WARNING: The directory '/home/.cache/pip' or its parent directory is not owned or is not writable by the current user. The cache has been disabled. Check the permissions and owner of that directory. If executing pip with sudo, you should use sudo's -H flag."
     ]
    }
   ],
   "source": [
    "spark._sc.install_pypi_package(\"matplotlib\", \"https://pypi.org/simple\")"
   ]
  },
  {
   "cell_type": "code",
   "execution_count": 9,
   "id": "13b885dc",
   "metadata": {},
   "outputs": [
    {
     "data": {
      "application/vnd.jupyter.widget-view+json": {
       "model_id": "",
       "version_major": 2,
       "version_minor": 0
      },
      "text/plain": [
       "FloatProgress(value=0.0, bar_style='info', description='Progress:', layout=Layout(height='25px', width='50%'),…"
      ]
     },
     "metadata": {},
     "output_type": "display_data"
    },
    {
     "name": "stdout",
     "output_type": "stream",
     "text": [
      "Requirement already satisfied: numpy in ./tmp/spark-3bebecfa-2d74-4c6f-ae4f-70a5ac19bc6a/lib64/python3.9/site-packages (2.0.2)\n",
      "\n",
      "WARNING: The directory '/home/.cache/pip' or its parent directory is not owned or is not writable by the current user. The cache has been disabled. Check the permissions and owner of that directory. If executing pip with sudo, you should use sudo's -H flag."
     ]
    }
   ],
   "source": [
    "spark._sc.install_pypi_package(\"numpy\", \"https://pypi.org/simple\")"
   ]
  },
  {
   "cell_type": "code",
   "execution_count": 10,
   "id": "c7bab06f",
   "metadata": {},
   "outputs": [
    {
     "data": {
      "application/vnd.jupyter.widget-view+json": {
       "model_id": "",
       "version_major": 2,
       "version_minor": 0
      },
      "text/plain": [
       "FloatProgress(value=0.0, bar_style='info', description='Progress:', layout=Layout(height='25px', width='50%'),…"
      ]
     },
     "metadata": {},
     "output_type": "display_data"
    },
    {
     "name": "stdout",
     "output_type": "stream",
     "text": [
      "Collecting scikit-learn\n",
      "  Downloading scikit_learn-1.6.1-cp39-cp39-manylinux_2_17_x86_64.manylinux2014_x86_64.whl (13.5 MB)\n",
      "Requirement already satisfied: numpy>=1.19.5 in ./tmp/spark-3bebecfa-2d74-4c6f-ae4f-70a5ac19bc6a/lib64/python3.9/site-packages (from scikit-learn) (2.0.2)\n",
      "Collecting threadpoolctl>=3.1.0\n",
      "  Downloading threadpoolctl-3.6.0-py3-none-any.whl (18 kB)\n",
      "Requirement already satisfied: joblib>=1.2.0 in /usr/local/lib64/python3.9/site-packages (from scikit-learn) (1.4.2)\n",
      "Collecting scipy>=1.6.0\n",
      "  Downloading scipy-1.13.1-cp39-cp39-manylinux_2_17_x86_64.manylinux2014_x86_64.whl (38.6 MB)\n",
      "Installing collected packages: threadpoolctl, scipy, scikit-learn\n",
      "Successfully installed scikit-learn-1.6.1 scipy-1.13.1 threadpoolctl-3.6.0\n",
      "\n",
      "WARNING: The directory '/home/.cache/pip' or its parent directory is not owned or is not writable by the current user. The cache has been disabled. Check the permissions and owner of that directory. If executing pip with sudo, you should use sudo's -H flag."
     ]
    }
   ],
   "source": [
    "spark._sc.install_pypi_package(\"scikit-learn\", \"https://pypi.org/simple\")\n"
   ]
  },
  {
   "cell_type": "code",
   "execution_count": 11,
   "id": "2771bae7",
   "metadata": {},
   "outputs": [
    {
     "data": {
      "application/vnd.jupyter.widget-view+json": {
       "model_id": "",
       "version_major": 2,
       "version_minor": 0
      },
      "text/plain": [
       "FloatProgress(value=0.0, bar_style='info', description='Progress:', layout=Layout(height='25px', width='50%'),…"
      ]
     },
     "metadata": {},
     "output_type": "display_data"
    }
   ],
   "source": [
    "import pandas as pd\n",
    "import matplotlib.pyplot as plt\n",
    "import numpy as np"
   ]
  },
  {
   "cell_type": "code",
   "execution_count": 12,
   "id": "4104d224",
   "metadata": {},
   "outputs": [
    {
     "data": {
      "application/vnd.jupyter.widget-view+json": {
       "model_id": "",
       "version_major": 2,
       "version_minor": 0
      },
      "text/plain": [
       "FloatProgress(value=0.0, bar_style='info', description='Progress:', layout=Layout(height='25px', width='50%'),…"
      ]
     },
     "metadata": {},
     "output_type": "display_data"
    },
    {
     "name": "stdout",
     "output_type": "stream",
     "text": [
      "root\n",
      " |-- name: string (nullable = true)\n",
      " |-- style: string (nullable = true)\n",
      " |-- brewery: string (nullable = true)\n",
      " |-- beer name (full): string (nullable = true)\n",
      " |-- description: string (nullable = true)\n",
      " |-- abv: string (nullable = true)\n",
      " |-- min ibu: string (nullable = true)\n",
      " |-- max ibu: string (nullable = true)\n",
      " |-- astringency: string (nullable = true)\n",
      " |-- body: string (nullable = true)\n",
      " |-- alcohol: string (nullable = true)\n",
      " |-- bitter: string (nullable = true)\n",
      " |-- sweet: string (nullable = true)\n",
      " |-- sour: string (nullable = true)\n",
      " |-- salty: string (nullable = true)\n",
      " |-- fruits: string (nullable = true)\n",
      " |-- hoppy: string (nullable = true)\n",
      " |-- spices: string (nullable = true)\n",
      " |-- malty: string (nullable = true)\n",
      " |-- review_aroma: string (nullable = true)\n",
      " |-- review_appearance: string (nullable = true)\n",
      " |-- review_palate: double (nullable = true)\n",
      " |-- review_taste: double (nullable = true)\n",
      " |-- review_overall: double (nullable = true)\n",
      " |-- number_of_reviews: double (nullable = true)\n",
      "\n",
      "+--------------------+-------+--------------------+--------------------+--------------------+---+-------+-------+-----------+----+-------+------+-----+----+-----+------+-----+------+-----+------------+-----------------+-------------+------------+--------------+-----------------+\n",
      "|                name|  style|             brewery|    beer name (full)|         description|abv|min ibu|max ibu|astringency|body|alcohol|bitter|sweet|sour|salty|fruits|hoppy|spices|malty|review_aroma|review_appearance|review_palate|review_taste|review_overall|number_of_reviews|\n",
      "+--------------------+-------+--------------------+--------------------+--------------------+---+-------+-------+-----------+----+-------+------+-----+----+-----+------+-----+------+-----+------------+-----------------+-------------+------------+--------------+-----------------+\n",
      "|               amber|altbier| alaskan brewing co.|alaskan brewing c...|\"notes:richly mal...|5.3|     25|     50|         13|  32|      9|    47|   74|  33|    0|    33|   57|     8|  111|    3.498994|         3.636821|     3.556338|    3.643863|      3.847082|            497.0|\n",
      "|          double bag|altbier|long trail brewin...|long trail brewin...|notes:this malty,...|7.2|     25|     50|         12|  57|     18|    33|   55|  16|    0|    24|   35|    12|   84|    3.798337|         3.846154|     3.904366|    4.024948|      4.034304|            481.0|\n",
      "|      long trail ale|altbier|long trail brewin...|long trail brewin...|notes:long trail ...|  5|     25|     50|         14|  37|      6|    42|   43|  11|    0|    10|   54|     4|   62|    3.409814|         3.667109|     3.600796|      3.6313|      3.830239|            377.0|\n",
      "|        doppelsticke|altbier|uerige obergarige...|uerige obergarige...|              notes:|8.5|     25|     50|         13|  55|     31|    47|  101|  18|    1|    49|   40|    16|  119|    4.148098|         4.033967|     4.150815|    4.205163|      4.005435|            368.0|\n",
      "|sleigh'r dark dou...|altbier|ninkasi brewing c...|ninkasi brewing c...|notes:called 'dar...|7.2|     25|     50|         25|  51|     26|    44|   45|   9|    1|    11|   51|    20|   95|       3.625|         3.973958|     3.734375|    3.765625|      3.817708|             96.0|\n",
      "+--------------------+-------+--------------------+--------------------+--------------------+---+-------+-------+-----------+----+-------+------+-----+----+-----+------+-----+------+-----+------------+-----------------+-------------+------------+--------------+-----------------+\n",
      "only showing top 5 rows"
     ]
    }
   ],
   "source": [
    "ruta_s3 = \"s3a://itam-analytics-sofia/beers/clean/beer_profile_and_ratings.csv\"\n",
    "\n",
    "df = spark.read.option(\"header\", \"true\") \\\n",
    "               .option(\"inferSchema\", \"true\") \\\n",
    "               .csv(ruta_s3)\n",
    "\n",
    "df.printSchema()\n",
    "df.show(5)\n"
   ]
  },
  {
   "cell_type": "code",
   "execution_count": 13,
   "id": "752b8c98",
   "metadata": {},
   "outputs": [
    {
     "data": {
      "application/vnd.jupyter.widget-view+json": {
       "model_id": "",
       "version_major": 2,
       "version_minor": 0
      },
      "text/plain": [
       "FloatProgress(value=0.0, bar_style='info', description='Progress:', layout=Layout(height='25px', width='50%'),…"
      ]
     },
     "metadata": {},
     "output_type": "display_data"
    },
    {
     "name": "stdout",
     "output_type": "stream",
     "text": [
      "['name', 'style', 'brewery', 'beer name (full)', 'description', 'abv', 'min ibu', 'max ibu', 'astringency', 'body', 'alcohol', 'bitter', 'sweet', 'sour', 'salty', 'fruits', 'hoppy', 'spices', 'malty', 'review_aroma', 'review_appearance', 'review_palate', 'review_taste', 'review_overall', 'number_of_reviews']"
     ]
    }
   ],
   "source": [
    "df.count()\n",
    "df.columns\n"
   ]
  },
  {
   "cell_type": "code",
   "execution_count": 14,
   "id": "55e7314b",
   "metadata": {},
   "outputs": [
    {
     "data": {
      "application/vnd.jupyter.widget-view+json": {
       "model_id": "",
       "version_major": 2,
       "version_minor": 0
      },
      "text/plain": [
       "FloatProgress(value=0.0, bar_style='info', description='Progress:', layout=Layout(height='25px', width='50%'),…"
      ]
     },
     "metadata": {},
     "output_type": "display_data"
    },
    {
     "name": "stdout",
     "output_type": "stream",
     "text": [
      "Shape: (3197, 25)"
     ]
    }
   ],
   "source": [
    "# Forma df \n",
    "\n",
    "(filas, columnas) = (df.count(), len(df.columns))\n",
    "print(\"Shape:\", (filas, columnas))\n"
   ]
  },
  {
   "cell_type": "code",
   "execution_count": 15,
   "id": "ea0d145c",
   "metadata": {},
   "outputs": [
    {
     "data": {
      "application/vnd.jupyter.widget-view+json": {
       "model_id": "",
       "version_major": 2,
       "version_minor": 0
      },
      "text/plain": [
       "FloatProgress(value=0.0, bar_style='info', description='Progress:', layout=Layout(height='25px', width='50%'),…"
      ]
     },
     "metadata": {},
     "output_type": "display_data"
    },
    {
     "name": "stdout",
     "output_type": "stream",
     "text": [
      "+-------+--------------------+-------------+--------------------+--------------------+--------------------+--------------------+--------------------+------------------+--------------------+--------------------+--------------------+--------------------+------------------+-----------------+--------------------+--------------------+------------------+--------------------+--------------------+--------------------+--------------------+-----------------+-----------------+-----------------+------------------+\n",
      "|summary|                name|        style|             brewery|    beer name (full)|         description|                 abv|             min ibu|           max ibu|         astringency|                body|             alcohol|              bitter|             sweet|             sour|               salty|              fruits|             hoppy|              spices|               malty|        review_aroma|   review_appearance|    review_palate|     review_taste|   review_overall| number_of_reviews|\n",
      "+-------+--------------------+-------------+--------------------+--------------------+--------------------+--------------------+--------------------+------------------+--------------------+--------------------+--------------------+--------------------+------------------+-----------------+--------------------+--------------------+------------------+--------------------+--------------------+--------------------+--------------------+-----------------+-----------------+-----------------+------------------+\n",
      "|  count|                3197|         3197|                3197|                3197|                3197|                3197|                3197|              3197|                3197|                3197|                3197|                3197|              3197|             3197|                3197|                3197|              3197|                3197|                3197|                3197|                3197|             3197|             3197|             3197|              3197|\n",
      "|   mean|  1750.3333333333333|         NULL|                NULL|                NULL|                NULL|   6.515840103997408|   20.97809386049502| 38.56430715197957|  16.674094513162068|   45.46161871640847|  17.512105926860027|   35.91843926998112|57.301762114537446|33.01142139943521|    2.07217173299906|  38.042016280525985| 40.40892018779343|   18.81389236545682|   73.91645807259074|   5.122195504067581|  4.8675292559449455|4.725536550828906|4.218199457303734|4.152671371598376|   219.88084994401|\n",
      "| stddev|  174.55753588239418|         NULL|                NULL|                NULL|                NULL|   2.558773666551147|  13.098608939134854|21.288155374412703|   11.08939659151513|  26.228942160647552|  17.820519879365595|  25.657178380984284|34.292414031360565|35.23114234832502|   7.184213555035405|   32.45429560617806|30.457891499485683|  24.152182761344648|   40.50517729734071|  10.861379398554691|    9.42263073105726|9.354993602999784|6.779765326207957|5.775572164910826|348.69505447778096|\n",
      "|    min|\"smuttynose ipa \"...|      altbier|(512) brewing com...|\"hopworks urban b...|\"notes:\"\"100% bar...| 16 oz. \"\"tallboy...| \"\"raspberry-lamb...|      \"\"beer first| 30 ibu.ingredien...| & belgian beer c...| & black maltaddi...| a beer would mak...|            38 ibu|       3.8 srm\\t\"| and centennial h...| and our local gr...|               oak| and tannins will...| or hints of leat...| remember that be...| so don’t keep it...|              0.0|              0.0|              1.0|               0.0|\n",
      "|    max|   šamp - pivni sekt|winter warmer|    zatecký pivovar|zatecký pivovar ...|notes:”do you kno...|auburn-colored al...|” the rich first ...|                90|                 9.5|      mark & pete\\t\"|                  99|                  99|                99|               99|                  91|                  99|                99|                  99|                  99|                  98|                  95|            147.0|            178.0|            158.0|            3000.0|\n",
      "+-------+--------------------+-------------+--------------------+--------------------+--------------------+--------------------+--------------------+------------------+--------------------+--------------------+--------------------+--------------------+------------------+-----------------+--------------------+--------------------+------------------+--------------------+--------------------+--------------------+--------------------+-----------------+-----------------+-----------------+------------------+"
     ]
    }
   ],
   "source": [
    "df.describe().show()\n",
    "\n"
   ]
  },
  {
   "cell_type": "code",
   "execution_count": 16,
   "id": "f08991fb",
   "metadata": {},
   "outputs": [
    {
     "data": {
      "application/vnd.jupyter.widget-view+json": {
       "model_id": "",
       "version_major": 2,
       "version_minor": 0
      },
      "text/plain": [
       "FloatProgress(value=0.0, bar_style='info', description='Progress:', layout=Layout(height='25px', width='50%'),…"
      ]
     },
     "metadata": {},
     "output_type": "display_data"
    },
    {
     "name": "stdout",
     "output_type": "stream",
     "text": [
      "+----+-----+-------+----------------+-----------+---+-------+-------+-----------+----+-------+------+-----+----+-----+------+-----+------+-----+------------+-----------------+-------------+------------+--------------+-----------------+\n",
      "|name|style|brewery|beer name (full)|description|abv|min ibu|max ibu|astringency|body|alcohol|bitter|sweet|sour|salty|fruits|hoppy|spices|malty|review_aroma|review_appearance|review_palate|review_taste|review_overall|number_of_reviews|\n",
      "+----+-----+-------+----------------+-----------+---+-------+-------+-----------+----+-------+------+-----+----+-----+------+-----+------+-----+------------+-----------------+-------------+------------+--------------+-----------------+\n",
      "|   0|    0|      0|               0|          0|  0|      0|      0|          0|   0|      0|     0|    0|   0|    0|     0|    0|     0|    0|           0|                0|            0|           0|             0|                0|\n",
      "+----+-----+-------+----------------+-----------+---+-------+-------+-----------+----+-------+------+-----+----+-----+------+-----+------+-----+------------+-----------------+-------------+------------+--------------+-----------------+"
     ]
    }
   ],
   "source": [
    "# Valores nulos por columna \n",
    "\n",
    "from pyspark.sql.functions import col, isnan, when, count\n",
    "\n",
    "df.select([\n",
    "    count(when(col(c).isNull() | isnan(c), c)).alias(c)\n",
    "    for c in df.columns\n",
    "]).show()\n"
   ]
  },
  {
   "cell_type": "code",
   "execution_count": 17,
   "id": "9892c614",
   "metadata": {},
   "outputs": [
    {
     "data": {
      "application/vnd.jupyter.widget-view+json": {
       "model_id": "",
       "version_major": 2,
       "version_minor": 0
      },
      "text/plain": [
       "FloatProgress(value=0.0, bar_style='info', description='Progress:', layout=Layout(height='25px', width='50%'),…"
      ]
     },
     "metadata": {},
     "output_type": "display_data"
    },
    {
     "name": "stdout",
     "output_type": "stream",
     "text": [
      "+-------+--------------------+-------------+--------------------+--------------------+--------------------+--------------------+--------------------+------------------+--------------------+--------------------+--------------------+--------------------+------------------+-----------------+--------------------+--------------------+------------------+--------------------+--------------------+--------------------+--------------------+-----------------+-----------------+-----------------+------------------+\n",
      "|summary|                name|        style|             brewery|    beer name (full)|         description|                 abv|             min ibu|           max ibu|         astringency|                body|             alcohol|              bitter|             sweet|             sour|               salty|              fruits|             hoppy|              spices|               malty|        review_aroma|   review_appearance|    review_palate|     review_taste|   review_overall| number_of_reviews|\n",
      "+-------+--------------------+-------------+--------------------+--------------------+--------------------+--------------------+--------------------+------------------+--------------------+--------------------+--------------------+--------------------+------------------+-----------------+--------------------+--------------------+------------------+--------------------+--------------------+--------------------+--------------------+-----------------+-----------------+-----------------+------------------+\n",
      "|  count|                3197|         3197|                3197|                3197|                3197|                3197|                3197|              3197|                3197|                3197|                3197|                3197|              3197|             3197|                3197|                3197|              3197|                3197|                3197|                3197|                3197|             3197|             3197|             3197|              3197|\n",
      "|   mean|  1750.3333333333333|         NULL|                NULL|                NULL|                NULL|   6.515840103997408|   20.97809386049502| 38.56430715197957|  16.674094513162068|   45.46161871640847|  17.512105926860027|   35.91843926998112|57.301762114537446|33.01142139943521|    2.07217173299906|  38.042016280525985| 40.40892018779343|   18.81389236545682|   73.91645807259074|   5.122195504067581|  4.8675292559449455|4.725536550828906|4.218199457303734|4.152671371598376|   219.88084994401|\n",
      "| stddev|  174.55753588239418|         NULL|                NULL|                NULL|                NULL|   2.558773666551147|  13.098608939134854|21.288155374412703|   11.08939659151513|  26.228942160647552|  17.820519879365595|  25.657178380984284|34.292414031360565|35.23114234832502|   7.184213555035405|   32.45429560617806|30.457891499485683|  24.152182761344648|   40.50517729734071|  10.861379398554691|    9.42263073105726|9.354993602999784|6.779765326207957|5.775572164910826|348.69505447778096|\n",
      "|    min|\"smuttynose ipa \"...|      altbier|(512) brewing com...|\"hopworks urban b...|\"notes:\"\"100% bar...| 16 oz. \"\"tallboy...| \"\"raspberry-lamb...|      \"\"beer first| 30 ibu.ingredien...| & belgian beer c...| & black maltaddi...| a beer would mak...|            38 ibu|       3.8 srm\\t\"| and centennial h...| and our local gr...|               oak| and tannins will...| or hints of leat...| remember that be...| so don’t keep it...|              0.0|              0.0|              1.0|               0.0|\n",
      "|    max|   šamp - pivni sekt|winter warmer|    zatecký pivovar|zatecký pivovar ...|notes:”do you kno...|auburn-colored al...|” the rich first ...|                90|                 9.5|      mark & pete\\t\"|                  99|                  99|                99|               99|                  91|                  99|                99|                  99|                  99|                  98|                  95|            147.0|            178.0|            158.0|            3000.0|\n",
      "+-------+--------------------+-------------+--------------------+--------------------+--------------------+--------------------+--------------------+------------------+--------------------+--------------------+--------------------+--------------------+------------------+-----------------+--------------------+--------------------+------------------+--------------------+--------------------+--------------------+--------------------+-----------------+-----------------+-----------------+------------------+"
     ]
    }
   ],
   "source": [
    "# Estadísticas generales numéricas \n",
    "\n",
    "df.describe().show()\n"
   ]
  },
  {
   "cell_type": "code",
   "execution_count": 18,
   "id": "57ac0c17",
   "metadata": {},
   "outputs": [
    {
     "data": {
      "application/vnd.jupyter.widget-view+json": {
       "model_id": "",
       "version_major": 2,
       "version_minor": 0
      },
      "text/plain": [
       "FloatProgress(value=0.0, bar_style='info', description='Progress:', layout=Layout(height='25px', width='50%'),…"
      ]
     },
     "metadata": {},
     "output_type": "display_data"
    },
    {
     "name": "stdout",
     "output_type": "stream",
     "text": [
      "+-------------+-----+\n",
      "|         name|count|\n",
      "+-------------+-----+\n",
      "|  oktoberfest|   12|\n",
      "|       porter|   10|\n",
      "|smoked porter|    9|\n",
      "|christmas ale|    6|\n",
      "|          ipa|    5|\n",
      "+-------------+-----+\n",
      "only showing top 5 rows\n",
      "\n",
      "+--------------------+-----+\n",
      "|               style|count|\n",
      "+--------------------+-----+\n",
      "|     lager - adjunct|   45|\n",
      "|lager - european ...|   43|\n",
      "|wheat beer - hefe...|   42|\n",
      "|   stout - irish dry|   42|\n",
      "|      lambic - fruit|   42|\n",
      "+--------------------+-----+\n",
      "only showing top 5 rows\n",
      "\n",
      "+--------------------+-----+\n",
      "|             brewery|count|\n",
      "+--------------------+-----+\n",
      "|boston beer compa...|   40|\n",
      "|dogfish head brewery|   31|\n",
      "|      anheuser-busch|   30|\n",
      "|three floyds brew...|   29|\n",
      "|victory brewing c...|   23|\n",
      "+--------------------+-----+\n",
      "only showing top 5 rows\n",
      "\n",
      "+--------------------+-----+\n",
      "|    beer name (full)|count|\n",
      "+--------------------+-----+\n",
      "|great lakes brewi...|    1|\n",
      "|arcense stoombier...|    1|\n",
      "|north coast brewi...|    1|\n",
      "|founders brewing ...|    1|\n",
      "|brasserie d'achou...|    1|\n",
      "+--------------------+-----+\n",
      "only showing top 5 rows\n",
      "\n",
      "+--------------------+-----+\n",
      "|         description|count|\n",
      "+--------------------+-----+\n",
      "|              notes:| 1347|\n",
      "|      notes:21 ibu\\t|    3|\n",
      "|      notes:22 ibu\\t|    2|\n",
      "|notes:the essence...|    2|\n",
      "|notes:busch and b...|    2|\n",
      "+--------------------+-----+\n",
      "only showing top 5 rows\n",
      "\n",
      "+---+-----+\n",
      "|abv|count|\n",
      "+---+-----+\n",
      "|  5|  272|\n",
      "|5.5|  159|\n",
      "|  6|  153|\n",
      "|  8|  122|\n",
      "|  7|  118|\n",
      "+---+-----+\n",
      "only showing top 5 rows\n",
      "\n",
      "+-------+-----+\n",
      "|min ibu|count|\n",
      "+-------+-----+\n",
      "|     20|  692|\n",
      "|     15|  413|\n",
      "|     10|  337|\n",
      "|     25|  319|\n",
      "|     30|  181|\n",
      "+-------+-----+\n",
      "only showing top 5 rows\n",
      "\n",
      "+-------+-----+\n",
      "|max ibu|count|\n",
      "+-------+-----+\n",
      "|     40|  478|\n",
      "|     30|  473|\n",
      "|     25|  390|\n",
      "|     50|  195|\n",
      "|     45|  188|\n",
      "+-------+-----+\n",
      "only showing top 5 rows\n",
      "\n",
      "+-----------+-----+\n",
      "|astringency|count|\n",
      "+-----------+-----+\n",
      "|         10|  159|\n",
      "|         15|  153|\n",
      "|         13|  152|\n",
      "|         12|  143|\n",
      "|         11|  141|\n",
      "+-----------+-----+\n",
      "only showing top 5 rows\n",
      "\n",
      "+----+-----+\n",
      "|body|count|\n",
      "+----+-----+\n",
      "|  32|   85|\n",
      "|  30|   81|\n",
      "|  38|   76|\n",
      "|  31|   71|\n",
      "|  34|   70|\n",
      "+----+-----+\n",
      "only showing top 5 rows\n",
      "\n",
      "+-------+-----+\n",
      "|alcohol|count|\n",
      "+-------+-----+\n",
      "|      7|  197|\n",
      "|      6|  188|\n",
      "|      8|  171|\n",
      "|      5|  168|\n",
      "|      9|  158|\n",
      "+-------+-----+\n",
      "only showing top 5 rows\n",
      "\n",
      "+------+-----+\n",
      "|bitter|count|\n",
      "+------+-----+\n",
      "|    25|   77|\n",
      "|    24|   71|\n",
      "|    18|   67|\n",
      "|    16|   65|\n",
      "|    17|   63|\n",
      "+------+-----+\n",
      "only showing top 5 rows\n",
      "\n",
      "+-----+-----+\n",
      "|sweet|count|\n",
      "+-----+-----+\n",
      "|   52|   53|\n",
      "|   48|   51|\n",
      "|   47|   50|\n",
      "|   65|   50|\n",
      "|   62|   48|\n",
      "+-----+-----+\n",
      "only showing top 5 rows\n",
      "\n",
      "+----+-----+\n",
      "|sour|count|\n",
      "+----+-----+\n",
      "|  10|  107|\n",
      "|   9|  100|\n",
      "|  11|   95|\n",
      "|  13|   93|\n",
      "|   4|   87|\n",
      "+----+-----+\n",
      "only showing top 5 rows\n",
      "\n",
      "+-----+-----+\n",
      "|salty|count|\n",
      "+-----+-----+\n",
      "|    0| 1842|\n",
      "|    1|  560|\n",
      "|    2|  258|\n",
      "|    3|  182|\n",
      "|    4|   91|\n",
      "+-----+-----+\n",
      "only showing top 5 rows\n",
      "\n",
      "+------+-----+\n",
      "|fruits|count|\n",
      "+------+-----+\n",
      "|     6|   80|\n",
      "|     5|   77|\n",
      "|     9|   69|\n",
      "|     7|   69|\n",
      "|     3|   68|\n",
      "+------+-----+\n",
      "only showing top 5 rows\n",
      "\n",
      "+-----+-----+\n",
      "|hoppy|count|\n",
      "+-----+-----+\n",
      "|   16|   71|\n",
      "|   20|   65|\n",
      "|   14|   63|\n",
      "|   25|   60|\n",
      "|   24|   59|\n",
      "+-----+-----+\n",
      "only showing top 5 rows\n",
      "\n",
      "+------+-----+\n",
      "|spices|count|\n",
      "+------+-----+\n",
      "|     4|  190|\n",
      "|     3|  175|\n",
      "|     2|  162|\n",
      "|     7|  154|\n",
      "|     0|  153|\n",
      "+------+-----+\n",
      "only showing top 5 rows\n",
      "\n",
      "+-----+-----+\n",
      "|malty|count|\n",
      "+-----+-----+\n",
      "|   47|   40|\n",
      "|   80|   38|\n",
      "|   64|   36|\n",
      "|   97|   35|\n",
      "|   30|   35|\n",
      "+-----+-----+\n",
      "only showing top 5 rows\n",
      "\n",
      "+------------+-----+\n",
      "|review_aroma|count|\n",
      "+------------+-----+\n",
      "|         3.5|   80|\n",
      "|           4|   79|\n",
      "|        3.75|   46|\n",
      "|    3.666667|   33|\n",
      "|        3.25|   30|\n",
      "+------------+-----+\n",
      "only showing top 5 rows\n",
      "\n",
      "+-----------------+-----+\n",
      "|review_appearance|count|\n",
      "+-----------------+-----+\n",
      "|                4|  104|\n",
      "|              3.5|   56|\n",
      "|             3.75|   53|\n",
      "|                3|   33|\n",
      "|         3.666667|   29|\n",
      "+-----------------+-----+\n",
      "only showing top 5 rows\n",
      "\n",
      "+-------------+-----+\n",
      "|review_palate|count|\n",
      "+-------------+-----+\n",
      "|          4.0|   90|\n",
      "|          3.5|   67|\n",
      "|         3.75|   44|\n",
      "|          3.0|   35|\n",
      "|     3.833333|   22|\n",
      "+-------------+-----+\n",
      "only showing top 5 rows\n",
      "\n",
      "+------------+-----+\n",
      "|review_taste|count|\n",
      "+------------+-----+\n",
      "|         4.0|   87|\n",
      "|         3.5|   69|\n",
      "|        3.75|   44|\n",
      "|         4.5|   36|\n",
      "|         3.0|   24|\n",
      "+------------+-----+\n",
      "only showing top 5 rows\n",
      "\n",
      "+--------------+-----+\n",
      "|review_overall|count|\n",
      "+--------------+-----+\n",
      "|           4.0|   97|\n",
      "|           3.5|   60|\n",
      "|          3.75|   45|\n",
      "|           4.5|   26|\n",
      "|      3.666667|   24|\n",
      "+--------------+-----+\n",
      "only showing top 5 rows\n",
      "\n",
      "+-----------------+-----+\n",
      "|number_of_reviews|count|\n",
      "+-----------------+-----+\n",
      "|              2.0|   80|\n",
      "|              1.0|   71|\n",
      "|              3.0|   67|\n",
      "|              4.0|   61|\n",
      "|              5.0|   42|\n",
      "+-----------------+-----+\n",
      "only showing top 5 rows"
     ]
    }
   ],
   "source": [
    "# Estadísticas generales\n",
    "\n",
    "for c in df.columns:\n",
    "    df.groupBy(c).count().orderBy(\"count\", ascending=False).show(5)\n"
   ]
  },
  {
   "cell_type": "code",
   "execution_count": 19,
   "id": "267c8580",
   "metadata": {},
   "outputs": [
    {
     "data": {
      "application/vnd.jupyter.widget-view+json": {
       "model_id": "",
       "version_major": 2,
       "version_minor": 0
      },
      "text/plain": [
       "FloatProgress(value=0.0, bar_style='info', description='Progress:', layout=Layout(height='25px', width='50%'),…"
      ]
     },
     "metadata": {},
     "output_type": "display_data"
    },
    {
     "name": "stdout",
     "output_type": "stream",
     "text": [
      "934"
     ]
    }
   ],
   "source": [
    "# Contar valores únicos\n",
    "\n",
    "df.select(\"name\").distinct().count()\n",
    "df.select(\"style\").distinct().count()\n",
    "df.select(\"brewery\").distinct().count()\n"
   ]
  },
  {
   "cell_type": "markdown",
   "id": "34c0b810",
   "metadata": {},
   "source": [
    "### Tabla de variables del dataset \n",
    "\n",
    "| Variable              | Tipo       | Descripción                                                                 |\n",
    "|-----------------------|------------|-----------------------------------------------------------------------------|\n",
    "| `name`                | Categórica | Nombre corto de la cerveza                                                 |\n",
    "| `style`               | Categórica | Estilo de cerveza (e.g., IPA, Lager, Stout)                                |\n",
    "| `brewery`             | Categórica | Nombre de la cervecería                                                    |\n",
    "| `beer name (full)`    | Texto      | Nombre completo o extendido de la cerveza                                  |\n",
    "| `description`         | Texto      | Descripción sensorial de la cerveza                                        |\n",
    "| `abv`                 | Numérica   | Alcohol by Volume (%), contenido alcohólico                                |\n",
    "| `min ibu`             | Numérica   | Valor mínimo de International Bitterness Units si se conoce                |\n",
    "| `max ibu`             | Numérica   | Valor máximo de IBU si se conoce                                           |\n",
    "| `astringency`         | Numérica   | Sensación de sequedad en boca (0–5)                                        |\n",
    "| `body`                | Numérica   | Cuerpo o densidad percibida (0–5)                                          |\n",
    "| `alcohol`             | Numérica   | Percepción del alcohol (0–5)                                               |\n",
    "| `bitter`              | Numérica   | Intensidad del sabor amargo (0–5)                                          |\n",
    "| `sweet`               | Numérica   | Intensidad del sabor dulce (0–5)                                           |\n",
    "| `sour`                | Numérica   | Intensidad del sabor ácido (0–5)                                           |\n",
    "| `salty`               | Numérica   | Percepción salada (0–5)                                                    |\n",
    "| `fruits`              | Numérica   | Intensidad de notas frutales (0–5)                                         |\n",
    "| `hoppy`               | Numérica   | Intensidad de lúpulo (0–5)                                                 |\n",
    "| `spices`              | Numérica   | Percepción de especias (0–5)                                               |\n",
    "| `malty`               | Numérica   | Intensidad de maltosidad (0–5)                                             |\n",
    "| `review_aroma`        | Numérica   | Calificación del aroma por usuarios (0–5)                                  |\n",
    "| `review_appearance`   | Numérica   | Calificación de apariencia por usuarios (0–5)                              |\n",
    "| `review_palate`       | Numérica   | Calificación del paladar por usuarios (0–5)                                |\n",
    "| `review_taste`        | Numérica   | Calificación del sabor por usuarios (0–5)                                  |\n",
    "| `review_overall`      | Numérica   | Calificación global por usuarios (0–5)                                     |\n",
    "| `number_of_reviews`   | Entera     | Número total de reseñas registradas                                        |\n"
   ]
  },
  {
   "cell_type": "code",
   "execution_count": 20,
   "id": "7ee3deac",
   "metadata": {},
   "outputs": [
    {
     "data": {
      "application/vnd.jupyter.widget-view+json": {
       "model_id": "",
       "version_major": 2,
       "version_minor": 0
      },
      "text/plain": [
       "FloatProgress(value=0.0, bar_style='info', description='Progress:', layout=Layout(height='25px', width='50%'),…"
      ]
     },
     "metadata": {},
     "output_type": "display_data"
    }
   ],
   "source": [
    "# Renombrar columnas\n",
    "\n",
    "df = df.toDF(*[c.strip().lower().replace(\" \", \"_\").replace(\"(\", \"\").replace(\")\", \"\") for c in df.columns])\n"
   ]
  },
  {
   "cell_type": "code",
   "execution_count": 21,
   "id": "f468897b",
   "metadata": {},
   "outputs": [
    {
     "data": {
      "application/vnd.jupyter.widget-view+json": {
       "model_id": "",
       "version_major": 2,
       "version_minor": 0
      },
      "text/plain": [
       "FloatProgress(value=0.0, bar_style='info', description='Progress:', layout=Layout(height='25px', width='50%'),…"
      ]
     },
     "metadata": {},
     "output_type": "display_data"
    }
   ],
   "source": [
    "# Seleccionar columnas numéricas \n",
    "\n",
    "numerical_cols = [\n",
    "    'abv', 'min_ibu', 'max_ibu', 'astringency', 'body', 'alcohol', 'bitter',\n",
    "    'sweet', 'sour', 'salty', 'fruits', 'hoppy', 'spices', 'malty',\n",
    "    'review_aroma', 'review_appearance', 'review_palate',\n",
    "    'review_taste', 'review_overall', 'number_of_reviews'\n",
    "]\n"
   ]
  },
  {
   "cell_type": "code",
   "execution_count": 22,
   "id": "7b5a6746",
   "metadata": {},
   "outputs": [
    {
     "data": {
      "application/vnd.jupyter.widget-view+json": {
       "model_id": "",
       "version_major": 2,
       "version_minor": 0
      },
      "text/plain": [
       "FloatProgress(value=0.0, bar_style='info', description='Progress:', layout=Layout(height='25px', width='50%'),…"
      ]
     },
     "metadata": {},
     "output_type": "display_data"
    },
    {
     "name": "stdout",
     "output_type": "stream",
     "text": [
      "root\n",
      " |-- abv: float (nullable = true)\n",
      " |-- min_ibu: float (nullable = true)\n",
      " |-- max_ibu: float (nullable = true)\n",
      " |-- astringency: float (nullable = true)\n",
      " |-- body: float (nullable = true)\n",
      " |-- alcohol: float (nullable = true)\n",
      " |-- bitter: float (nullable = true)\n",
      " |-- sweet: float (nullable = true)\n",
      " |-- sour: float (nullable = true)\n",
      " |-- salty: float (nullable = true)\n",
      " |-- fruits: float (nullable = true)\n",
      " |-- hoppy: float (nullable = true)\n",
      " |-- spices: float (nullable = true)\n",
      " |-- malty: float (nullable = true)\n",
      " |-- review_aroma: float (nullable = true)\n",
      " |-- review_appearance: float (nullable = true)\n",
      " |-- review_palate: float (nullable = true)\n",
      " |-- review_taste: float (nullable = true)\n",
      " |-- review_overall: float (nullable = true)\n",
      " |-- number_of_reviews: float (nullable = true)"
     ]
    }
   ],
   "source": [
    "# Convertir columnas numéricas que aún están como string\n",
    "\n",
    "from pyspark.sql.functions import col\n",
    "\n",
    "for c in numerical_cols:\n",
    "    df = df.withColumn(c, col(c).cast(\"float\"))\n",
    "\n",
    "df.select(numerical_cols).printSchema()\n"
   ]
  },
  {
   "cell_type": "code",
   "execution_count": 23,
   "id": "cab5e282",
   "metadata": {},
   "outputs": [
    {
     "data": {
      "application/vnd.jupyter.widget-view+json": {
       "model_id": "",
       "version_major": 2,
       "version_minor": 0
      },
      "text/plain": [
       "FloatProgress(value=0.0, bar_style='info', description='Progress:', layout=Layout(height='25px', width='50%'),…"
      ]
     },
     "metadata": {},
     "output_type": "display_data"
    },
    {
     "name": "stdout",
     "output_type": "stream",
     "text": [
      "abv                 : ['1.00', '0.49', '0.54', '-0.14', '0.31', '0.52', '0.11', '0.48', '0.09', '-0.36', '0.28', '-0.02', '0.11', '0.21', '-0.29', '-0.25', '-0.24', '-0.15', '-0.14', '0.17']\n",
      "min_ibu             : ['0.49', '1.00', '0.86', '-0.04', '0.37', '0.28', '0.54', '0.27', '-0.06', '-0.22', '0.08', '0.40', '-0.07', '0.33', '-0.15', '-0.17', '-0.16', '-0.09', '-0.09', '0.23']\n",
      "max_ibu             : ['0.54', '0.86', '1.00', '-0.05', '0.35', '0.35', '0.48', '0.32', '-0.02', '-0.21', '0.17', '0.34', '0.03', '0.31', '-0.13', '-0.18', '-0.18', '-0.11', '-0.10', '0.23']\n",
      "astringency         : ['-0.14', '-0.04', '-0.05', '1.00', '-0.03', '-0.09', '0.11', '0.01', '0.55', '0.16', '0.27', '0.30', '-0.03', '-0.09', '0.14', '-0.08', '-0.13', '-0.11', '-0.09', '-0.04']\n",
      "body                : ['0.31', '0.37', '0.35', '-0.03', '1.00', '0.24', '0.55', '0.48', '-0.12', '-0.16', '-0.03', '0.07', '0.14', '0.74', '-0.14', '-0.11', '-0.13', '-0.10', '-0.10', '0.07']\n",
      "alcohol             : ['0.52', '0.28', '0.35', '-0.09', '0.24', '1.00', '0.00', '0.50', '0.08', '0.08', '0.24', '-0.08', '0.26', '0.23', '0.16', '-0.00', '0.03', '-0.01', '-0.05', '0.03']\n",
      "bitter              : ['0.11', '0.54', '0.48', '0.11', '0.55', '0.00', '1.00', '0.11', '-0.12', '-0.06', '-0.08', '0.70', '-0.09', '0.56', '-0.07', '-0.03', '-0.09', '-0.03', '-0.05', '0.13']\n",
      "sweet               : ['0.48', '0.27', '0.32', '0.01', '0.48', '0.50', '0.11', '1.00', '0.26', '-0.14', '0.47', '-0.02', '0.08', '0.47', '-0.07', '-0.13', '-0.06', '-0.06', '-0.07', '0.06']\n",
      "sour                : ['0.09', '-0.06', '-0.02', '0.55', '-0.12', '0.08', '-0.12', '0.26', '1.00', '0.05', '0.75', '0.08', '0.02', '-0.29', '0.07', '-0.02', '-0.02', '0.02', '-0.02', '0.01']\n",
      "salty               : ['-0.36', '-0.22', '-0.21', '0.16', '-0.16', '0.08', '-0.06', '-0.14', '0.05', '1.00', '0.00', '-0.00', '0.12', '-0.13', '0.54', '0.52', '0.51', '0.16', '0.26', '-0.10']\n",
      "fruits              : ['0.28', '0.08', '0.17', '0.27', '-0.03', '0.24', '-0.08', '0.47', '0.75', '0.00', '1.00', '0.11', '0.14', '-0.17', '-0.04', '0.00', '0.06', '-0.00', '-0.01', '0.11']\n",
      "hoppy               : ['-0.02', '0.40', '0.34', '0.30', '0.07', '-0.08', '0.70', '-0.02', '0.08', '-0.00', '0.11', '1.00', '-0.13', '0.19', '-0.02', '-0.07', '0.00', '0.02', '-0.01', '0.10']\n",
      "spices              : ['0.11', '-0.07', '0.03', '-0.03', '0.14', '0.26', '-0.09', '0.08', '0.02', '0.12', '0.14', '-0.13', '1.00', '0.03', '0.13', '0.09', '0.02', '0.07', '0.10', '-0.03']\n",
      "malty               : ['0.21', '0.33', '0.31', '-0.09', '0.74', '0.23', '0.56', '0.47', '-0.29', '-0.13', '-0.17', '0.19', '0.03', '1.00', '-0.13', '-0.06', '-0.07', '-0.08', '-0.05', '0.03']\n",
      "review_aroma        : ['-0.29', '-0.15', '-0.13', '0.14', '-0.14', '0.16', '-0.07', '-0.07', '0.07', '0.54', '-0.04', '-0.02', '0.13', '-0.13', '1.00', '0.18', '0.42', '0.19', '0.14', '-0.07']\n",
      "review_appearance   : ['-0.25', '-0.17', '-0.18', '-0.08', '-0.11', '-0.00', '-0.03', '-0.13', '-0.02', '0.52', '0.00', '-0.07', '0.09', '-0.06', '0.18', '1.00', '0.30', '0.22', '0.37', '-0.06']\n",
      "review_palate       : ['-0.24', '-0.16', '-0.18', '-0.13', '-0.13', '0.03', '-0.09', '-0.06', '-0.02', '0.51', '0.06', '0.00', '0.02', '-0.07', '0.42', '0.30', '1.00', '0.30', '0.44', '-0.06']\n",
      "review_taste        : ['-0.15', '-0.09', '-0.11', '-0.11', '-0.10', '-0.01', '-0.03', '-0.06', '0.02', '0.16', '-0.00', '0.02', '0.07', '-0.08', '0.19', '0.22', '0.30', '1.00', '0.32', '-0.03']\n",
      "review_overall      : ['-0.14', '-0.09', '-0.10', '-0.09', '-0.10', '-0.05', '-0.05', '-0.07', '-0.02', '0.26', '-0.01', '-0.01', '0.10', '-0.05', '0.14', '0.37', '0.44', '0.32', '1.00', '-0.03']\n",
      "number_of_reviews   : ['0.17', '0.23', '0.23', '-0.04', '0.07', '0.03', '0.13', '0.06', '0.01', '-0.10', '0.11', '0.10', '-0.03', '0.03', '-0.07', '-0.06', '-0.06', '-0.03', '-0.03', '1.00']"
     ]
    }
   ],
   "source": [
    "# Matriz de correlación\n",
    "\n",
    "from pyspark.sql.functions import col\n",
    "\n",
    "for c in numerical_cols:\n",
    "    df = df.withColumn(c, col(c).cast(\"float\"))\n",
    "    \n",
    "    correlaciones = []\n",
    "    \n",
    "for col1 in numerical_cols:\n",
    "    fila = []\n",
    "    for col2 in numerical_cols:\n",
    "        corr = df.stat.corr(col1, col2)\n",
    "        fila.append(corr)\n",
    "    correlaciones.append(fila)\n",
    "    \n",
    "# Imprimir como matriz\n",
    "for i, row in enumerate(correlaciones):\n",
    "    nombre_col = numerical_cols[i]\n",
    "    fila_redondeada = [f\"{v:.2f}\" if v is not None else \"None\" for v in row]\n",
    "    print(f\"{nombre_col:20}: {fila_redondeada}\")\n",
    "\n",
    "\n"
   ]
  },
  {
   "cell_type": "markdown",
   "id": "fe114d13",
   "metadata": {},
   "source": [
    "### Selección de columnas relevantes, ajustaremos más adelante con la encuesta"
   ]
  },
  {
   "cell_type": "code",
   "execution_count": 24,
   "id": "3668e8a1",
   "metadata": {},
   "outputs": [
    {
     "data": {
      "application/vnd.jupyter.widget-view+json": {
       "model_id": "",
       "version_major": 2,
       "version_minor": 0
      },
      "text/plain": [
       "FloatProgress(value=0.0, bar_style='info', description='Progress:', layout=Layout(height='25px', width='50%'),…"
      ]
     },
     "metadata": {},
     "output_type": "display_data"
    },
    {
     "name": "stdout",
     "output_type": "stream",
     "text": [
      "['name', 'style', 'brewery', 'beer_name_full', 'description', 'abv', 'min_ibu', 'max_ibu', 'astringency', 'body', 'alcohol', 'bitter', 'sweet', 'sour', 'salty', 'fruits', 'hoppy', 'spices', 'malty', 'review_aroma', 'review_appearance', 'review_palate', 'review_taste', 'review_overall', 'number_of_reviews']"
     ]
    }
   ],
   "source": [
    "print(df.columns)\n"
   ]
  },
  {
   "cell_type": "code",
   "execution_count": 26,
   "id": "8a5abed4",
   "metadata": {},
   "outputs": [
    {
     "data": {
      "application/vnd.jupyter.widget-view+json": {
       "model_id": "",
       "version_major": 2,
       "version_minor": 0
      },
      "text/plain": [
       "FloatProgress(value=0.0, bar_style='info', description='Progress:', layout=Layout(height='25px', width='50%'),…"
      ]
     },
     "metadata": {},
     "output_type": "display_data"
    }
   ],
   "source": [
    "from pyspark.ml.feature import VectorAssembler, StandardScaler\n",
    "from pyspark.sql.functions import col\n",
    "\n",
    "# 1. Definir columnas numéricas de interés\n",
    "feature_cols = [\n",
    "    'abv', 'astringency', 'body', 'alcohol', 'bitter',\n",
    "    'sweet', 'sour', 'salty', 'fruits', 'hoppy', 'spices', 'malty',\n",
    "    'review_aroma', 'review_appearance', 'review_palate', 'review_taste', 'review_overall'\n",
    "]\n",
    "\n",
    "# 2. Subset del DataFrame y eliminar nulos en esas columnas\n",
    "df_features = df.select(\"name\", *feature_cols)\n",
    "df_features_clean = df_features.dropna(subset=feature_cols)\n",
    "\n",
    "# 3. VectorAssembler (corregido para incluir 'name')\n",
    "assembler = VectorAssembler(inputCols=feature_cols, outputCol=\"features_vec\")\n",
    "\n",
    "# Seleccionamos 'name' + las columnas sensoriales\n",
    "df_ensamblado = df_features_clean.select(\"name\", *feature_cols)\n",
    "\n",
    "# Aplicamos el ensamblador (agrega la columna 'features_vec')\n",
    "df_ensamblado = assembler.transform(df_ensamblado)\n",
    "\n",
    "\n",
    "# 4. StandardScaler\n",
    "scaler = StandardScaler(inputCol=\"features_vec\", outputCol=\"features_scaled\", withMean=True, withStd=True)\n",
    "scaler_model = scaler.fit(df_ensamblado)\n",
    "df_scaled = scaler_model.transform(df_ensamblado)\n"
   ]
  },
  {
   "cell_type": "markdown",
   "id": "206f2fd3",
   "metadata": {},
   "source": [
    "### KNN"
   ]
  },
  {
   "cell_type": "code",
   "execution_count": 27,
   "id": "b1002605",
   "metadata": {},
   "outputs": [
    {
     "data": {
      "application/vnd.jupyter.widget-view+json": {
       "model_id": "",
       "version_major": 2,
       "version_minor": 0
      },
      "text/plain": [
       "FloatProgress(value=0.0, bar_style='info', description='Progress:', layout=Layout(height='25px', width='50%'),…"
      ]
     },
     "metadata": {},
     "output_type": "display_data"
    }
   ],
   "source": [
    "from pyspark.ml.linalg import Vectors\n",
    "from pyspark.sql.functions import col, udf\n",
    "from pyspark.sql.types import DoubleType\n",
    "import numpy as np\n",
    "\n",
    "# Función para calcular distancia coseno entre dos vectores\n",
    "def cosine_distance_udf(vec1):\n",
    "    def distancia(vec2):\n",
    "        dot = float(vec1.dot(vec2))\n",
    "        norm1 = float(vec1.norm(2))\n",
    "        norm2 = float(vec2.norm(2))\n",
    "        if norm1 == 0.0 or norm2 == 0.0:\n",
    "            return float(\"nan\")\n",
    "        return 1 - dot / (norm1 * norm2)\n",
    "    return udf(distancia, DoubleType())\n"
   ]
  },
  {
   "cell_type": "code",
   "execution_count": 28,
   "id": "47bc62e4",
   "metadata": {},
   "outputs": [
    {
     "data": {
      "application/vnd.jupyter.widget-view+json": {
       "model_id": "",
       "version_major": 2,
       "version_minor": 0
      },
      "text/plain": [
       "FloatProgress(value=0.0, bar_style='info', description='Progress:', layout=Layout(height='25px', width='50%'),…"
      ]
     },
     "metadata": {},
     "output_type": "display_data"
    }
   ],
   "source": [
    "# Por ejemplo: \"amber\"\n",
    "nombre_base = \"amber\"\n",
    "\n",
    "# Obtener el vector escalado de esa cerveza\n",
    "vector_base = df_scaled.filter(col(\"name\") == nombre_base).select(\"features_scaled\").first()[\"features_scaled\"]\n"
   ]
  },
  {
   "cell_type": "code",
   "execution_count": 29,
   "id": "c3c0cc9e",
   "metadata": {},
   "outputs": [
    {
     "data": {
      "application/vnd.jupyter.widget-view+json": {
       "model_id": "",
       "version_major": 2,
       "version_minor": 0
      },
      "text/plain": [
       "FloatProgress(value=0.0, bar_style='info', description='Progress:', layout=Layout(height='25px', width='50%'),…"
      ]
     },
     "metadata": {},
     "output_type": "display_data"
    },
    {
     "name": "stdout",
     "output_type": "stream",
     "text": [
      "+------------------------+-------------------+\n",
      "|name                    |cosine_distance    |\n",
      "+------------------------+-------------------+\n",
      "|old thumper             |0.16093461570751988|\n",
      "|esb                     |0.16933200465095055|\n",
      "|special amber           |0.18608644763773452|\n",
      "|sawtooth                |0.19202900992627225|\n",
      "|bleeding buckeye red ale|0.21679615617313364|\n",
      "+------------------------+-------------------+"
     ]
    }
   ],
   "source": [
    "# Agregar columna de distancia\n",
    "df_recomendaciones = df_scaled.withColumn(\"cosine_distance\", cosine_distance_udf(vector_base)(col(\"features_scaled\")))\n",
    "\n",
    "# Ordenar por similitud (excluyendo a sí misma)\n",
    "df_resultado = df_recomendaciones \\\n",
    "    .filter(col(\"name\") != nombre_base) \\\n",
    "    .select(\"name\", \"cosine_distance\") \\\n",
    "    .orderBy(\"cosine_distance\") \\\n",
    "    .limit(5)\n",
    "\n",
    "df_resultado.show(truncate=False)\n"
   ]
  },
  {
   "cell_type": "code",
   "execution_count": 30,
   "id": "10a280e9",
   "metadata": {},
   "outputs": [
    {
     "data": {
      "application/vnd.jupyter.widget-view+json": {
       "model_id": "",
       "version_major": 2,
       "version_minor": 0
      },
      "text/plain": [
       "FloatProgress(value=0.0, bar_style='info', description='Progress:', layout=Layout(height='25px', width='50%'),…"
      ]
     },
     "metadata": {},
     "output_type": "display_data"
    }
   ],
   "source": [
    "import random\n",
    "\n",
    "def evaluar_recomendador(df_scaled, vector_col=\"features_scaled\", nombre_col=\"name\", muestras=100, top_k=5):\n",
    "    nombres = df_scaled.select(nombre_col).rdd.flatMap(lambda x: x).collect()\n",
    "    nombres_muestra = random.sample(nombres, min(muestras, len(nombres)))\n",
    "\n",
    "    distancias_promedio = []\n",
    "\n",
    "    for nombre in nombres_muestra:\n",
    "        # Vector base\n",
    "        vec_base = df_scaled.filter(col(nombre_col) == nombre).select(vector_col).first()[0]\n",
    "\n",
    "        # Calcular distancias\n",
    "        df_temp = df_scaled.withColumn(\"cosine_distance\", cosine_distance_udf(vec_base)(col(vector_col)))\n",
    "\n",
    "        # Excluirse a sí misma\n",
    "        recomendaciones = df_temp.filter(col(nombre_col) != nombre).select(\"cosine_distance\").orderBy(\"cosine_distance\").limit(top_k)\n",
    "\n",
    "        # Promedio de las k distancias\n",
    "        promedio = recomendaciones.selectExpr(\"avg(cosine_distance) as mean\").first()[\"mean\"]\n",
    "\n",
    "        if promedio is not None:\n",
    "            distancias_promedio.append(promedio)\n",
    "\n",
    "    return {\n",
    "        \"promedio\": np.mean(distancias_promedio),\n",
    "        \"desviacion\": np.std(distancias_promedio),\n",
    "        \"n evaluadas\": len(distancias_promedio)\n",
    "    }\n"
   ]
  },
  {
   "cell_type": "code",
   "execution_count": 31,
   "id": "4d49043c",
   "metadata": {},
   "outputs": [
    {
     "data": {
      "application/vnd.jupyter.widget-view+json": {
       "model_id": "",
       "version_major": 2,
       "version_minor": 0
      },
      "text/plain": [
       "FloatProgress(value=0.0, bar_style='info', description='Progress:', layout=Layout(height='25px', width='50%'),…"
      ]
     },
     "metadata": {},
     "output_type": "display_data"
    },
    {
     "name": "stdout",
     "output_type": "stream",
     "text": [
      "Distancia promedio entre recomendaciones: 0.0975241396349748\n",
      "Desviacion estandar: 0.05465019283524453\n",
      "Numero de cervezas evaluadas: 100"
     ]
    }
   ],
   "source": [
    "resultados = evaluar_recomendador(df_scaled, vector_col=\"features_scaled\", nombre_col=\"name\", muestras=100, top_k=5)\n",
    "\n",
    "print(\"Distancia promedio entre recomendaciones:\", resultados[\"promedio\"])\n",
    "print(\"Desviacion estandar:\", resultados[\"desviacion\"])\n",
    "print(\"Numero de cervezas evaluadas:\", resultados[\"n evaluadas\"])\n"
   ]
  },
  {
   "cell_type": "markdown",
   "id": "6a1758d5",
   "metadata": {},
   "source": [
    "### Kmeans"
   ]
  },
  {
   "cell_type": "code",
   "execution_count": 32,
   "id": "5cf5767b",
   "metadata": {},
   "outputs": [
    {
     "data": {
      "application/vnd.jupyter.widget-view+json": {
       "model_id": "",
       "version_major": 2,
       "version_minor": 0
      },
      "text/plain": [
       "FloatProgress(value=0.0, bar_style='info', description='Progress:', layout=Layout(height='25px', width='50%'),…"
      ]
     },
     "metadata": {},
     "output_type": "display_data"
    }
   ],
   "source": [
    "from pyspark.ml.clustering import KMeans\n",
    "from pyspark.ml.evaluation import ClusteringEvaluator\n",
    "import matplotlib.pyplot as plt\n"
   ]
  },
  {
   "cell_type": "code",
   "execution_count": 33,
   "id": "95ce0574",
   "metadata": {},
   "outputs": [
    {
     "data": {
      "application/vnd.jupyter.widget-view+json": {
       "model_id": "",
       "version_major": 2,
       "version_minor": 0
      },
      "text/plain": [
       "FloatProgress(value=0.0, bar_style='info', description='Progress:', layout=Layout(height='25px', width='50%'),…"
      ]
     },
     "metadata": {},
     "output_type": "display_data"
    }
   ],
   "source": [
    "# Determinar el número óptimo de clusters (método del codo)\n",
    "\n",
    "inertias = []\n",
    "k_range = range(2, 11)\n",
    "\n",
    "for k in k_range:\n",
    "    kmeans = KMeans(featuresCol=\"features_scaled\", k=k, seed=42)\n",
    "    model = kmeans.fit(df_scaled)  \n",
    "    inertia = model.summary.trainingCost\n",
    "    inertias.append(inertia)\n",
    "\n",
    "# Gráfica del método del codo\n",
    "plt.figure(figsize=(8, 5))\n",
    "plt.plot(k_range, inertias, marker='o')\n",
    "plt.xlabel(\"Número de clusters (k)\")\n",
    "plt.ylabel(\"Inercia\")\n",
    "plt.title(\"Método del codo para determinar k óptimo\")\n",
    "plt.grid(True)\n",
    "plt.show()\n",
    "\n"
   ]
  },
  {
   "cell_type": "code",
   "execution_count": 34,
   "id": "c90eeea6",
   "metadata": {},
   "outputs": [
    {
     "data": {
      "application/vnd.jupyter.widget-view+json": {
       "model_id": "",
       "version_major": 2,
       "version_minor": 0
      },
      "text/plain": [
       "FloatProgress(value=0.0, bar_style='info', description='Progress:', layout=Layout(height='25px', width='50%'),…"
      ]
     },
     "metadata": {},
     "output_type": "display_data"
    }
   ],
   "source": [
    "# Entrenar el modelo final con el número óptimo de clusters\n",
    "\n",
    "from pyspark.ml.clustering import KMeans\n",
    "\n",
    "kmeans_final = KMeans(featuresCol=\"features_scaled\", k=5, seed=42)\n",
    "model_final = kmeans_final.fit(df_scaled)\n",
    "df_clustered = model_final.transform(df_scaled)\n"
   ]
  },
  {
   "cell_type": "code",
   "execution_count": 35,
   "id": "43222053",
   "metadata": {},
   "outputs": [
    {
     "data": {
      "application/vnd.jupyter.widget-view+json": {
       "model_id": "",
       "version_major": 2,
       "version_minor": 0
      },
      "text/plain": [
       "FloatProgress(value=0.0, bar_style='info', description='Progress:', layout=Layout(height='25px', width='50%'),…"
      ]
     },
     "metadata": {},
     "output_type": "display_data"
    }
   ],
   "source": [
    "# Extraer los vectores como columnas para análisis en pandas (solo para graficar localmente)\n",
    "\n",
    "from pyspark.ml.functions import vector_to_array\n",
    "from pyspark.sql.functions import col\n",
    "\n",
    "df_plot = df_clustered.withColumn(\"features_array\", vector_to_array(\"features_scaled\"))\n",
    "\n",
    "# Explota el vector en columnas separadas\n",
    "for i, c in enumerate(feature_cols):\n",
    "    df_plot = df_plot.withColumn(c + \"_scaled\", col(\"features_array\")[i])\n"
   ]
  },
  {
   "cell_type": "code",
   "execution_count": 36,
   "id": "d6794261",
   "metadata": {},
   "outputs": [
    {
     "data": {
      "application/vnd.jupyter.widget-view+json": {
       "model_id": "",
       "version_major": 2,
       "version_minor": 0
      },
      "text/plain": [
       "FloatProgress(value=0.0, bar_style='info', description='Progress:', layout=Layout(height='25px', width='50%'),…"
      ]
     },
     "metadata": {},
     "output_type": "display_data"
    }
   ],
   "source": [
    "#  Convertir a pandas para análisis visual\n",
    "\n",
    "df_pandas = df_plot.select([\"prediction\"] + [c + \"_scaled\" for c in feature_cols]).toPandas()\n",
    "df_pandas = df_pandas.rename(columns={\"prediction\": \"cluster\"})\n"
   ]
  },
  {
   "cell_type": "code",
   "execution_count": 37,
   "id": "dfc2624b",
   "metadata": {},
   "outputs": [
    {
     "data": {
      "application/vnd.jupyter.widget-view+json": {
       "model_id": "",
       "version_major": 2,
       "version_minor": 0
      },
      "text/plain": [
       "FloatProgress(value=0.0, bar_style='info', description='Progress:', layout=Layout(height='25px', width='50%'),…"
      ]
     },
     "metadata": {},
     "output_type": "display_data"
    }
   ],
   "source": [
    "# Agrupar por cluster y graficar \n",
    "\n",
    "import matplotlib.pyplot as plt\n",
    "\n",
    "cluster_means = df_pandas.groupby(\"cluster\").mean()\n",
    "\n",
    "cluster_means.T.plot(kind=\"bar\", figsize=(14, 6))\n",
    "plt.title(\"Perfil sensorial promedio por cluster\")\n",
    "plt.xlabel(\"Atributo sensorial\")\n",
    "plt.ylabel(\"Valor estandarizado\")\n",
    "plt.xticks(rotation=45, ha='right')\n",
    "plt.legend(title='Cluster')\n",
    "plt.tight_layout()\n",
    "plt.show()\n"
   ]
  },
  {
   "cell_type": "code",
   "execution_count": 38,
   "id": "1700d7a0",
   "metadata": {},
   "outputs": [
    {
     "data": {
      "application/vnd.jupyter.widget-view+json": {
       "model_id": "",
       "version_major": 2,
       "version_minor": 0
      },
      "text/plain": [
       "FloatProgress(value=0.0, bar_style='info', description='Progress:', layout=Layout(height='25px', width='50%'),…"
      ]
     },
     "metadata": {},
     "output_type": "display_data"
    },
    {
     "name": "stdout",
     "output_type": "stream",
     "text": [
      "Silhouette Score: 0.16495464033019236"
     ]
    }
   ],
   "source": [
    "# Silhouette Score\n",
    "\n",
    "from sklearn.metrics import silhouette_score\n",
    "import numpy as np\n",
    "\n",
    "X = np.vstack(df_pandas[[c + \"_scaled\" for c in feature_cols]].values)\n",
    "labels = df_pandas[\"cluster\"].values\n",
    "\n",
    "score = silhouette_score(X, labels)\n",
    "print(\"Silhouette Score:\", score)\n"
   ]
  },
  {
   "cell_type": "code",
   "execution_count": 39,
   "id": "06270a10",
   "metadata": {},
   "outputs": [
    {
     "data": {
      "application/vnd.jupyter.widget-view+json": {
       "model_id": "",
       "version_major": 2,
       "version_minor": 0
      },
      "text/plain": [
       "FloatProgress(value=0.0, bar_style='info', description='Progress:', layout=Layout(height='25px', width='50%'),…"
      ]
     },
     "metadata": {},
     "output_type": "display_data"
    },
    {
     "name": "stdout",
     "output_type": "stream",
     "text": [
      "+----------+-----+\n",
      "|prediction|count|\n",
      "+----------+-----+\n",
      "|         1|  671|\n",
      "|         2| 1052|\n",
      "|         3|  390|\n",
      "|         4|  647|\n",
      "|         0|  317|\n",
      "+----------+-----+"
     ]
    }
   ],
   "source": [
    "df_clustered.groupBy(\"prediction\").count().show()\n",
    "\n"
   ]
  },
  {
   "cell_type": "code",
   "execution_count": 40,
   "id": "263ad9f1",
   "metadata": {},
   "outputs": [
    {
     "data": {
      "application/vnd.jupyter.widget-view+json": {
       "model_id": "",
       "version_major": 2,
       "version_minor": 0
      },
      "text/plain": [
       "FloatProgress(value=0.0, bar_style='info', description='Progress:', layout=Layout(height='25px', width='50%'),…"
      ]
     },
     "metadata": {},
     "output_type": "display_data"
    }
   ],
   "source": [
    "from pyspark.sql.functions import avg\n",
    "from pyspark.ml.functions import vector_to_array\n",
    "from pyspark.sql.functions import col\n",
    "\n",
    "df_array = df_clustered.withColumn(\"features_array\", vector_to_array(\"features_scaled\"))\n",
    "\n",
    "for i, c in enumerate(feature_cols):\n",
    "    df_array = df_array.withColumn(c + \"_scaled\", col(\"features_array\")[i])\n",
    "    \n",
    "\n",
    "df_avg = df_array.groupBy(\"prediction\").agg(\n",
    "    *[avg(c + \"_scaled\").alias(c) for c in feature_cols]\n",
    ").orderBy(\"prediction\")\n",
    "\n",
    "\n",
    "pandas_avg = df_avg.toPandas().set_index(\"prediction\").T\n",
    "\n",
    "\n",
    "pandas_avg.plot(kind=\"bar\", figsize=(14, 6))\n",
    "plt.title(\"Perfil sensorial promedio por cluster\")\n",
    "plt.xlabel(\"Atributo sensorial\")\n",
    "plt.ylabel(\"Valor estandarizado\")\n",
    "plt.xticks(rotation=45, ha=\"right\")\n",
    "plt.legend(title=\"Cluster\")\n",
    "plt.tight_layout()\n",
    "plt.show()\n"
   ]
  },
  {
   "cell_type": "markdown",
   "id": "022eb281",
   "metadata": {},
   "source": [
    "### Modelo Híbrido: Kmeans + KNN "
   ]
  },
  {
   "cell_type": "markdown",
   "id": "f5a07d07",
   "metadata": {},
   "source": [
    "- Input: nombre de cerveza (nombre_cerveza).\n",
    "\n",
    "- Busca: si hay match parcial en el nombre en df.\n",
    "\n",
    "- Extrae: su índice (index_ref), su nombre y su cluster_id.\n",
    "\n",
    "- Filtra: todas las cervezas en ese mismo cluster. (Kmeans)\n",
    "\n",
    "- Reentrena un KNN: solo con las cervezas dentro del cluster.\n",
    "\n",
    "- Encuentra las más parecidas: calcula distancia coseno desde la cerveza base.\n",
    "\n",
    "- Devuelve: las n cervezas más similares (exceptuando la base)."
   ]
  },
  {
   "cell_type": "code",
   "execution_count": 42,
   "id": "fd585b20",
   "metadata": {},
   "outputs": [
    {
     "data": {
      "application/vnd.jupyter.widget-view+json": {
       "model_id": "",
       "version_major": 2,
       "version_minor": 0
      },
      "text/plain": [
       "FloatProgress(value=0.0, bar_style='info', description='Progress:', layout=Layout(height='25px', width='50%'),…"
      ]
     },
     "metadata": {},
     "output_type": "display_data"
    }
   ],
   "source": [
    "from pyspark.ml.linalg import Vectors\n",
    "from pyspark.ml.feature import VectorAssembler\n",
    "from pyspark.ml.clustering import KMeans\n",
    "from pyspark.ml.functions import vector_to_array\n",
    "from pyspark.sql.functions import col, lit, lower, array\n",
    "from pyspark.sql import functions as F\n",
    "from sklearn.neighbors import NearestNeighbors\n",
    "import numpy as np\n",
    "import pandas as pd\n"
   ]
  },
  {
   "cell_type": "code",
   "execution_count": 49,
   "id": "bc9e5306",
   "metadata": {},
   "outputs": [
    {
     "data": {
      "application/vnd.jupyter.widget-view+json": {
       "model_id": "",
       "version_major": 2,
       "version_minor": 0
      },
      "text/plain": [
       "FloatProgress(value=0.0, bar_style='info', description='Progress:', layout=Layout(height='25px', width='50%'),…"
      ]
     },
     "metadata": {},
     "output_type": "display_data"
    }
   ],
   "source": [
    "# Simulación del input\n",
    "nombre_cerveza = \"guinness\"\n"
   ]
  },
  {
   "cell_type": "code",
   "execution_count": 50,
   "id": "d9de090c",
   "metadata": {},
   "outputs": [
    {
     "data": {
      "application/vnd.jupyter.widget-view+json": {
       "model_id": "",
       "version_major": 2,
       "version_minor": 0
      },
      "text/plain": [
       "FloatProgress(value=0.0, bar_style='info', description='Progress:', layout=Layout(height='25px', width='50%'),…"
      ]
     },
     "metadata": {},
     "output_type": "display_data"
    },
    {
     "name": "stdout",
     "output_type": "stream",
     "text": [
      "+-------------------------------------+---+-----------+-----+-------+------+-----+----+-----+------+-----+------+-----+------------+-----------------+-------------+------------+--------------+-------------------------------------------------------------------------------------------------------------------------------------------------------------------+--------------------------------------------------------------------------------------------------------------------------------------------------------------------------------------------------------------------------------------------------------------------------------------------------------------------------------------------------------+----------+\n",
      "|name                                 |abv|astringency|body |alcohol|bitter|sweet|sour|salty|fruits|hoppy|spices|malty|review_aroma|review_appearance|review_palate|review_taste|review_overall|features_vec                                                                                                                                                       |features_scaled                                                                                                                                                                                                                                                                                                                                         |prediction|\n",
      "+-------------------------------------+---+-----------+-----+-------+------+-----+----+-----+------+-----+------+-----+------------+-----------------+-------------+------------+--------------+-------------------------------------------------------------------------------------------------------------------------------------------------------------------+--------------------------------------------------------------------------------------------------------------------------------------------------------------------------------------------------------------------------------------------------------------------------------------------------------------------------------------------------------+----------+\n",
      "|guinness black lager                 |4.5|6.0        |20.0 |4.0    |14.0  |14.0 |3.0 |0.0  |5.0   |7.0  |0.0   |30.0 |2.924107    |3.631696         |2.962054     |2.948661    |3.026786      |[4.5,6.0,20.0,4.0,14.0,14.0,3.0,0.0,5.0,7.0,0.0,30.0,2.924107074737549,3.6316959857940674,2.9620540142059326,2.9486610889434814,3.0267860889434814]                |[-0.7878149338269272,-1.0092289809254482,-1.002351104253817,-0.7483951733153611,-0.8655689791809364,-1.2862142882627845,-0.8432725959379911,-0.4714423679548398,-1.0326519019066096,-1.1113357365012526,-0.771879237102097,-1.1338675502860165,-1.4057910363269606,-0.2948644720390836,-1.5329544126209647,-1.4587539342591929,-1.6025148972703527]     |3         |\n",
      "|guinness foreign extra stout         |7.5|20.0       |120.0|27.0   |99.0  |97.0 |24.0|0.0  |35.0  |50.0 |16.0  |154.0|3.939883    |4.299853         |4.024927     |4.082111    |4.057185      |[7.5,20.0,120.0,27.0,99.0,97.0,24.0,0.0,35.0,50.0,16.0,154.0,3.93988299369812,4.2998528480529785,4.024927139282227,4.08211088180542,4.057185173034668]             |[0.38462170769380444,0.35082751786409383,2.832330417304067,0.5743328325460203,2.4327284210533127,1.1344394478186421,-0.2494824630813207,-0.4714423679548398,-0.1025336704896441,0.3057447792095622,-0.09312955233580633,1.9723293801447026,0.6041542125857415,1.3502928716074005,0.8158528555810335,0.7498023165531916,0.7011312165908771]              |1         |\n",
      "|guinness foreign extra stout (africa)|7.5|12.0       |93.0 |27.0   |75.0  |117.0|50.0|0.0  |48.0  |38.0 |8.0   |111.0|3.729167    |4.166667         |3.625        |3.5625      |3.479167      |[7.5,12.0,93.0,27.0,75.0,117.0,50.0,0.0,48.0,38.0,8.0,111.0,3.7291669845581055,4.1666669845581055,3.625,3.5625,3.4791669845581055]                                 |[0.38462170769380444,-0.42634762430135875,1.7969664064834383,0.5743328325460203,1.5014444492224657,1.7177295047057328,0.48568627283646165,-0.4714423679548398,0.3005175631243742,-0.08971955075624657,-0.4325043947189517,0.8951804445921145,0.1872043385680471,1.0223583493790218,-0.06793256464953173,-0.2626729322214836,-0.5911344445335885]        |1         |\n",
      "|guinness draught                     |4.2|12.0       |52.0 |5.0    |30.0  |13.0 |3.0 |0.0  |6.0   |18.0 |1.0   |36.0 |3.228281    |4.197059         |3.446606     |3.353394    |3.685068      |[4.199999809265137,12.0,52.0,5.0,30.0,13.0,3.0,0.0,6.0,18.0,1.0,36.0,3.228281021118164,4.197059154510498,3.446605920791626,3.353394031524658,3.685067892074585]    |[-0.9050586725205145,-0.42634762430135875,0.22474698264470588,-0.6908852600170402,-0.24471299796037194,-1.3153787911071388,-0.8432725959379911,-0.4714423679548398,-1.0016479608593774,-0.7488267673659279,-0.7294573818042038,-0.9835676988135623,-0.8039132333993684,1.0971909289883826,-0.46215958945905894,-0.6701213226722871,-0.13080520631498913]|2         |\n",
      "|guinness extra stout (original)      |5.6|29.0       |80.0 |12.0   |59.0  |50.0 |15.0|0.0  |9.0   |34.0 |4.0   |96.0 |3.608927    |4.108518         |3.715397     |3.749386    |3.739148      |[5.599999904632568,29.0,80.0,12.0,59.0,50.0,15.0,0.0,9.0,34.0,4.0,96.0,3.608927011489868,4.108518123626709,3.7153968811035156,3.7493860721588135,3.739147901535034]|[-0.357921535873416,1.225149552800228,1.2984578086809133,-0.2883158669287937,0.8805884680019013,-0.2362921858660211,-0.5039639485913223,-0.4714423679548398,-0.9086361377176808,-0.22154099407818284,-0.6021918159105244,0.5194308159109792,-0.050717980800577135,0.879182351361815,0.13183243678795262,0.1014794152891549,-0.009899427617579684]       |4         |\n",
      "|guinness draught extra cold          |4.2|14.0       |84.0 |8.0    |51.0  |24.0 |1.0 |1.0  |1.0   |24.0 |0.0   |87.0 |3.303279    |4.125683         |3.18306      |3.23224     |3.584699      |[4.199999809265137,14.0,84.0,8.0,51.0,24.0,1.0,1.0,1.0,24.0,0.0,87.0,3.303278923034668,4.125682830810547,3.1830599308013916,3.2322399616241455,3.5846989154815674] |[-0.9050586725205145,-0.2320538387599956,1.4518450695432288,-0.5183555201220774,0.570160477391619,-0.994569259819239,-0.8998240371624359,0.0015371449884418896,-1.1566676660955382,-0.5510946023830235,-0.771879237102097,0.2939810387022979,-0.655512711373064,0.9214458461638634,-1.0445609336929909,-0.9061931628854427,-0.35519845981313763]        |2         |\n",
      "|guinness extra stout (canada)        |5.0|20.0       |75.0 |7.0    |70.0  |65.0 |23.0|0.0  |19.0  |53.0 |2.0   |102.0|3.059524    |3.785714         |3.130952     |3.142857    |3.119048      |[5.0,20.0,75.0,7.0,70.0,65.0,23.0,0.0,19.0,53.0,2.0,102.0,3.0595240592956543,3.7857139110565186,3.1309518814086914,3.142857074737549,3.1190481185913086]           |[-0.5924088269068053,0.35082751786409383,1.1067237326030193,-0.5758654334203983,1.3074269550910393,0.20117535679929693,-0.2777581836935431,-0.4714423679548398,-0.598596727245359,0.4046108617010144,-0.6870355265063107,0.6697306673834333,-1.1378375244804035,0.08436342355129431,-1.1597127446267912,-1.0803580308771694,-1.396246210373541]         |2         |\n",
      "|guinness original                    |5.0|16.0       |65.0 |6.0    |45.0  |32.0 |7.0 |0.0  |4.0   |26.0 |4.0   |66.0 |3.065217    |3.956522         |3.391304     |3.130435    |3.195652      |[5.0,16.0,65.0,6.0,45.0,32.0,7.0,0.0,4.0,26.0,4.0,66.0,3.0652170181274414,3.956521987915039,3.3913040161132812,3.130434989929199,3.1956520080566406]               |[-0.5924088269068053,-0.037760053218632454,0.7232555804472308,-0.6333753467187193,0.33733948443390727,-0.7612532370644027,-0.7301697134891014,-0.4714423679548398,-1.0636558429538416,-0.48518388072205537,-0.6021918159105244,-0.2320684414512916,-1.1265727018530713,0.50493257111329,-0.5843693928582994,-1.1045627845631085,-1.224984167347646]     |2         |\n",
      "+-------------------------------------+---+-----------+-----+-------+------+-----+----+-----+------+-----+------+-----+------------+-----------------+-------------+------------+--------------+-------------------------------------------------------------------------------------------------------------------------------------------------------------------+--------------------------------------------------------------------------------------------------------------------------------------------------------------------------------------------------------------------------------------------------------------------------------------------------------------------------------------------------------+----------+"
     ]
    }
   ],
   "source": [
    "# Búsqueda parcial\n",
    "base = df_clustered.filter(F.lower(F.col(\"name\")).contains(nombre_cerveza.lower()))\n",
    "base.show(truncate=False)\n",
    "\n"
   ]
  },
  {
   "cell_type": "code",
   "execution_count": 52,
   "id": "4ad073a7",
   "metadata": {},
   "outputs": [
    {
     "data": {
      "application/vnd.jupyter.widget-view+json": {
       "model_id": "",
       "version_major": 2,
       "version_minor": 0
      },
      "text/plain": [
       "FloatProgress(value=0.0, bar_style='info', description='Progress:', layout=Layout(height='25px', width='50%'),…"
      ]
     },
     "metadata": {},
     "output_type": "display_data"
    },
    {
     "name": "stdout",
     "output_type": "stream",
     "text": [
      "Cerveza base: guinness black lager\n",
      "Cluster sensorial asignado: 3"
     ]
    }
   ],
   "source": [
    "# Extraer nombre y cluster_id\n",
    "\n",
    "row = base.first()\n",
    "\n",
    "if row:\n",
    "    nombre_ref = row[\"name\"]\n",
    "    cluster_id = row[\"prediction\"]\n",
    "    print(f\"Cerveza base: {nombre_ref}\")\n",
    "    print(f\"Cluster sensorial asignado: {cluster_id}\")\n",
    "else:\n",
    "    print(\"No se encontró la cerveza.\")\n"
   ]
  },
  {
   "cell_type": "code",
   "execution_count": 53,
   "id": "2e79e2a4",
   "metadata": {},
   "outputs": [
    {
     "data": {
      "application/vnd.jupyter.widget-view+json": {
       "model_id": "",
       "version_major": 2,
       "version_minor": 0
      },
      "text/plain": [
       "FloatProgress(value=0.0, bar_style='info', description='Progress:', layout=Layout(height='25px', width='50%'),…"
      ]
     },
     "metadata": {},
     "output_type": "display_data"
    }
   ],
   "source": [
    "# Filtrar el cluster correspondiente\n",
    "\n",
    "df_cluster = df_clustered.filter(F.col(\"prediction\") == cluster_id)\n"
   ]
  },
  {
   "cell_type": "code",
   "execution_count": 54,
   "id": "d4d160b5",
   "metadata": {},
   "outputs": [
    {
     "data": {
      "application/vnd.jupyter.widget-view+json": {
       "model_id": "",
       "version_major": 2,
       "version_minor": 0
      },
      "text/plain": [
       "FloatProgress(value=0.0, bar_style='info', description='Progress:', layout=Layout(height='25px', width='50%'),…"
      ]
     },
     "metadata": {},
     "output_type": "display_data"
    }
   ],
   "source": [
    "# Convertir a pandas para usar KNN \n",
    "\n",
    "from pyspark.ml.functions import vector_to_array\n",
    "\n",
    "df_cluster_array = df_cluster.withColumn(\"features_array\", vector_to_array(\"features_scaled\"))\n",
    "df_cluster_pd = df_cluster_array.select(\"name\", \"features_array\").toPandas()\n"
   ]
  },
  {
   "cell_type": "code",
   "execution_count": 55,
   "id": "e56049e3",
   "metadata": {},
   "outputs": [
    {
     "data": {
      "application/vnd.jupyter.widget-view+json": {
       "model_id": "",
       "version_major": 2,
       "version_minor": 0
      },
      "text/plain": [
       "FloatProgress(value=0.0, bar_style='info', description='Progress:', layout=Layout(height='25px', width='50%'),…"
      ]
     },
     "metadata": {},
     "output_type": "display_data"
    }
   ],
   "source": [
    "# Aplicar KNN en numpy\n",
    "\n",
    "from sklearn.neighbors import NearestNeighbors\n",
    "import numpy as np\n",
    "\n",
    "X = np.vstack(df_cluster_pd[\"features_array\"])\n",
    "names = df_cluster_pd[\"name\"].values\n",
    "\n",
    "idx_ref = np.where(names == nombre_ref)[0][0]\n",
    "top_n = min(6, len(names))  # 5 recomendaciones + 1 base\n",
    "\n",
    "knn = NearestNeighbors(n_neighbors=top_n, metric=\"cosine\")\n",
    "knn.fit(X)\n",
    "\n",
    "distances, indices = knn.kneighbors([X[idx_ref]])\n"
   ]
  },
  {
   "cell_type": "code",
   "execution_count": 57,
   "id": "d08362d1",
   "metadata": {},
   "outputs": [
    {
     "data": {
      "application/vnd.jupyter.widget-view+json": {
       "model_id": "",
       "version_major": 2,
       "version_minor": 0
      },
      "text/plain": [
       "FloatProgress(value=0.0, bar_style='info', description='Progress:', layout=Layout(height='25px', width='50%'),…"
      ]
     },
     "metadata": {},
     "output_type": "display_data"
    },
    {
     "name": "stdout",
     "output_type": "stream",
     "text": [
      "\n",
      " Recomendaciones para: guinness black lager\n",
      "\n",
      "1. orion mugi shokunin ? Distancia: 0.0197\n",
      "2. dark wheat ? Distancia: 0.0335\n",
      "3. kirin classic lager ? Distancia: 0.0389\n",
      "4. san miguel selecta ? Distancia: 0.0433\n",
      "5. mississippi mud black & tan ? Distancia: 0.0463"
     ]
    }
   ],
   "source": [
    "# Mostrar resultados \n",
    "\n",
    "print(f\"\\n Recomendaciones para: {nombre_ref}\\n\")\n",
    "for i, idx in enumerate(indices[0][1:], 1):\n",
    "    print(f\"{i}. {names[idx]} – Distancia: {distances[0][i]:.4f}\")\n"
   ]
  },
  {
   "cell_type": "code",
   "execution_count": 59,
   "id": "fddfd269",
   "metadata": {},
   "outputs": [
    {
     "data": {
      "application/vnd.jupyter.widget-view+json": {
       "model_id": "",
       "version_major": 2,
       "version_minor": 0
      },
      "text/plain": [
       "FloatProgress(value=0.0, bar_style='info', description='Progress:', layout=Layout(height='25px', width='50%'),…"
      ]
     },
     "metadata": {},
     "output_type": "display_data"
    }
   ],
   "source": [
    "# Encapsular todo en una función\n",
    "\n",
    "def recomendar_hibrido_spark(nombre_cerveza, df_clustered, top_n=5):\n",
    "    from pyspark.ml.functions import vector_to_array\n",
    "    from sklearn.neighbors import NearestNeighbors\n",
    "    import numpy as np\n",
    "\n",
    "    # Búsqueda\n",
    "    base = df_clustered.filter(F.lower(F.col(\"name\")).contains(nombre_cerveza.lower()))\n",
    "    row = base.first()\n",
    "    if not row:\n",
    "        print(\"No se encontró la cerveza.\")\n",
    "        return\n",
    "\n",
    "    nombre_ref = row[\"name\"]\n",
    "    cluster_id = row[\"prediction\"]\n",
    "\n",
    "    print(f\"\\n Cerveza base: {nombre_ref}\")\n",
    "    print(f\" Cluster sensorial: {cluster_id}\")\n",
    "\n",
    "    # Subconjunto\n",
    "    df_cluster = df_clustered.filter(F.col(\"prediction\") == cluster_id)\n",
    "    df_array = df_cluster.withColumn(\"features_array\", vector_to_array(\"features_scaled\"))\n",
    "    df_pd = df_array.select(\"name\", \"features_array\").toPandas()\n",
    "\n",
    "    # KNN\n",
    "    X = np.vstack(df_pd[\"features_array\"])\n",
    "    names = df_pd[\"name\"].values\n",
    "    idx_ref = np.where(names == nombre_ref)[0][0]\n",
    "\n",
    "    knn = NearestNeighbors(n_neighbors=min(top_n+1, len(names)), metric=\"cosine\")\n",
    "    knn.fit(X)\n",
    "    distances, indices = knn.kneighbors([X[idx_ref]])\n",
    "\n",
    "    print(\"\\n Recomendaciones:\")\n",
    "    for i, idx in enumerate(indices[0][1:], 1):\n",
    "        print(f\"{i}. {names[idx]} – Distancia: {distances[0][i]:.4f}\")\n"
   ]
  },
  {
   "cell_type": "code",
   "execution_count": 60,
   "id": "c8a51ad4",
   "metadata": {},
   "outputs": [
    {
     "data": {
      "application/vnd.jupyter.widget-view+json": {
       "model_id": "",
       "version_major": 2,
       "version_minor": 0
      },
      "text/plain": [
       "FloatProgress(value=0.0, bar_style='info', description='Progress:', layout=Layout(height='25px', width='50%'),…"
      ]
     },
     "metadata": {},
     "output_type": "display_data"
    },
    {
     "name": "stdout",
     "output_type": "stream",
     "text": [
      "\n",
      " Cerveza base: guinness black lager\n",
      " Cluster sensorial: 3\n",
      "\n",
      " Recomendaciones:\n",
      "1. orion mugi shokunin ? Distancia: 0.0197\n",
      "2. dark wheat ? Distancia: 0.0335\n",
      "3. kirin classic lager ? Distancia: 0.0389\n",
      "4. san miguel selecta ? Distancia: 0.0433\n",
      "5. mississippi mud black & tan ? Distancia: 0.0463"
     ]
    }
   ],
   "source": [
    "recomendar_hibrido_spark(\"guinness\", df_clustered, top_n=5)\n"
   ]
  },
  {
   "cell_type": "code",
   "execution_count": null,
   "id": "f76e7cee",
   "metadata": {},
   "outputs": [],
   "source": []
  }
 ],
 "metadata": {
  "kernelspec": {
   "display_name": "PySpark",
   "language": "python",
   "name": "pysparkkernel"
  },
  "language_info": {
   "codemirror_mode": {
    "name": "python",
    "version": 3
   },
   "file_extension": ".py",
   "mimetype": "text/x-python",
   "name": "pyspark",
   "pygments_lexer": "python3"
  }
 },
 "nbformat": 4,
 "nbformat_minor": 5
}
