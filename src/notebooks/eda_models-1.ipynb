{
 "cells": [
  {
   "cell_type": "markdown",
   "id": "0873ebb7",
   "metadata": {},
   "source": [
    "# EDA and first look / analysis"
   ]
  },
  {
   "cell_type": "code",
   "execution_count": null,
   "id": "d9838554",
   "metadata": {},
   "outputs": [],
   "source": [
    "import pandas as pd\n",
    "import numpy as np\n",
    "import os\n",
    "import sys\n",
    "import argparse\n",
    "import matplotlib.pyplot as plt\n",
    "import seaborn as sns"
   ]
  },
  {
   "cell_type": "code",
   "execution_count": null,
   "id": "cc489239",
   "metadata": {},
   "outputs": [],
   "source": [
    "# read data \n",
    "\n",
    "df=pd.read_csv(\"../../data/clean/beer_profile_and_ratings.csv\")"
   ]
  },
  {
   "cell_type": "code",
   "execution_count": null,
   "id": "48c56eed",
   "metadata": {},
   "outputs": [],
   "source": [
    "df"
   ]
  },
  {
   "cell_type": "code",
   "execution_count": null,
   "id": "7813c7a6",
   "metadata": {},
   "outputs": [],
   "source": [
    "# Vista general\n",
    "print(\"Shape:\", df.shape)\n",
    "df.head()"
   ]
  },
  {
   "cell_type": "code",
   "execution_count": null,
   "id": "61f462e9",
   "metadata": {},
   "outputs": [],
   "source": [
    "# Tipos de datos\n",
    "print(df.dtypes)"
   ]
  },
  {
   "cell_type": "code",
   "execution_count": null,
   "id": "94579018",
   "metadata": {},
   "outputs": [],
   "source": [
    "# Valores nulos\n",
    "print(df.isna().sum())\n"
   ]
  },
  {
   "cell_type": "code",
   "execution_count": null,
   "id": "d165e344",
   "metadata": {},
   "outputs": [],
   "source": [
    "# Estadísticas generales\n",
    "df.describe(include='all').T"
   ]
  },
  {
   "cell_type": "code",
   "execution_count": null,
   "id": "df65840e",
   "metadata": {},
   "outputs": [],
   "source": [
    "df.columns"
   ]
  },
  {
   "cell_type": "markdown",
   "id": "181f11b8",
   "metadata": {},
   "source": [
    "###  Tabla de variables del dataset `beer_profile_and_ratings.csv`\n",
    "\n",
    "| Variable              | Tipo       | Descripción                                                                 |\n",
    "|-----------------------|------------|-----------------------------------------------------------------------------|\n",
    "| `name`                | Categórica | Nombre corto de la cerveza                                                 |\n",
    "| `style`               | Categórica | Estilo de cerveza (e.g., IPA, Lager, Stout)                                |\n",
    "| `brewery`             | Categórica | Nombre de la cervecería                                                    |\n",
    "| `beer name (full)`    | Texto      | Nombre completo o extendido de la cerveza                                  |\n",
    "| `description`         | Texto      | Descripción sensorial de la cerveza                                        |\n",
    "| `abv`                 | Numérica   | Alcohol by Volume (%), contenido alcohólico                                |\n",
    "| `min ibu`             | Numérica   | Valor mínimo de International Bitterness Units si se conoce                |\n",
    "| `max ibu`             | Numérica   | Valor máximo de IBU si se conoce                                           |\n",
    "| `astringency`         | Numérica   | Sensación de sequedad en boca (0–5)                                        |\n",
    "| `body`                | Numérica   | Cuerpo o densidad percibida (0–5)                                          |\n",
    "| `alcohol`             | Numérica   | Percepción del alcohol (0–5)                                               |\n",
    "| `bitter`              | Numérica   | Intensidad del sabor amargo (0–5)                                          |\n",
    "| `sweet`               | Numérica   | Intensidad del sabor dulce (0–5)                                           |\n",
    "| `sour`                | Numérica   | Intensidad del sabor ácido (0–5)                                           |\n",
    "| `salty`               | Numérica   | Percepción salada (0–5)                                                    |\n",
    "| `fruits`              | Numérica   | Intensidad de notas frutales (0–5)                                         |\n",
    "| `hoppy`               | Numérica   | Intensidad de lúpulo (0–5)                                                 |\n",
    "| `spices`              | Numérica   | Percepción de especias (0–5)                                               |\n",
    "| `malty`               | Numérica   | Intensidad de maltosidad (0–5)                                             |\n",
    "| `review_aroma`        | Numérica   | Calificación del aroma por usuarios (0–5)                                  |\n",
    "| `review_appearance`   | Numérica   | Calificación de apariencia por usuarios (0–5)                              |\n",
    "| `review_palate`       | Numérica   | Calificación del paladar por usuarios (0–5)                                |\n",
    "| `review_taste`        | Numérica   | Calificación del sabor por usuarios (0–5)                                  |\n",
    "| `review_overall`      | Numérica   | Calificación global por usuarios (0–5)                                     |\n",
    "| `number_of_reviews`   | Entera     | Número total de reseñas registradas                                        |\n"
   ]
  },
  {
   "cell_type": "code",
   "execution_count": null,
   "id": "41c1531c",
   "metadata": {},
   "outputs": [],
   "source": [
    "# Contar valores únicos en columnas categóricas clave\n",
    "unique_names = df['name'].nunique()\n",
    "unique_styles = df['style'].nunique()\n",
    "unique_breweries = df['brewery'].nunique()\n",
    "\n",
    "(unique_names, unique_styles, unique_breweries)"
   ]
  },
  {
   "cell_type": "code",
   "execution_count": null,
   "id": "a9704624",
   "metadata": {},
   "outputs": [],
   "source": [
    "# Renombrar las columnas del DataFrame a minúsculas y con guiones bajos\n",
    "df.columns = (\n",
    "    df.columns\n",
    "    .str.strip()\n",
    "    .str.lower()\n",
    "    .str.replace(\" \", \"_\")\n",
    "    .str.replace(\"(\", \"\")\n",
    "    .str.replace(\")\", \"\")\n",
    ")\n",
    "\n",
    "# Verificar los nuevos nombres de columna\n",
    "df.columns\n"
   ]
  },
  {
   "cell_type": "code",
   "execution_count": null,
   "id": "e7029792",
   "metadata": {},
   "outputs": [],
   "source": [
    "# Variables numéricas sensoriales y de reseña\n",
    "numerical_cols = [\n",
    "    'abv', 'min_ibu', 'max_ibu',\n",
    "    'astringency', 'body', 'alcohol', 'bitter',\n",
    "    'sweet', 'sour', 'salty', 'fruits', 'hoppy', 'spices', 'malty',\n",
    "    'review_aroma', 'review_appearance', 'review_palate',\n",
    "    'review_taste', 'review_overall', 'number_of_reviews'\n",
    "]\n",
    "\n",
    "# Histograma para variables seleccionadas\n",
    "df[numerical_cols].hist(bins=20, figsize=(18, 14), color='skyblue', edgecolor='black')\n",
    "plt.suptitle(\"Distribución de variables numéricas\", fontsize=16)\n",
    "plt.tight_layout()\n",
    "plt.show()\n"
   ]
  },
  {
   "cell_type": "code",
   "execution_count": null,
   "id": "623dd7e3",
   "metadata": {},
   "outputs": [],
   "source": [
    "# Calcular matriz de correlación para las variables numéricas\n",
    "corr_matrix = df[numerical_cols].corr()\n",
    "\n",
    "# Visualizar la matriz con un mapa de calor\n",
    "plt.figure(figsize=(16, 12))\n",
    "sns.heatmap(corr_matrix, annot=True, fmt=\".2f\", cmap=\"coolwarm\", center=0)\n",
    "plt.title(\"Matriz de correlación entre variables sensoriales y de reseñas\", fontsize=16)\n",
    "plt.xticks(rotation=45, ha='right')\n",
    "plt.yticks(rotation=0)\n",
    "plt.tight_layout()\n",
    "plt.show()\n"
   ]
  },
  {
   "cell_type": "markdown",
   "id": "9561c6c8",
   "metadata": {},
   "source": [
    "---"
   ]
  },
  {
   "cell_type": "markdown",
   "id": "1b9bb426",
   "metadata": {},
   "source": [
    "### Selección de columnas relevantes "
   ]
  },
  {
   "cell_type": "markdown",
   "id": "e42f5eb8",
   "metadata": {},
   "source": [
    "Creamos un subconjunto df_features con variables numéricas relevantes para definir el perfil de sabor y evaluación de cada cerveza."
   ]
  },
  {
   "cell_type": "code",
   "execution_count": null,
   "id": "e66c2139",
   "metadata": {},
   "outputs": [],
   "source": [
    "# Selección de columnas sensoriales y de calificación\n",
    "feature_cols = [\n",
    "    'abv', 'astringency', 'body', 'alcohol', 'bitter',\n",
    "    'sweet', 'sour', 'salty', 'fruits', 'hoppy', 'spices',\n",
    "    'malty', 'review_aroma', 'review_appearance', 'review_palate',\n",
    "    'review_taste', 'review_overall'\n",
    "]\n",
    "\n",
    "# Subconjunto con esas columnas\n",
    "df_features = df[feature_cols]\n",
    "df_features.head()\n"
   ]
  },
  {
   "cell_type": "code",
   "execution_count": null,
   "id": "b3a94c19",
   "metadata": {},
   "outputs": [],
   "source": [
    "# Revisar tipos y nulos antes\n",
    "print(df_features.dtypes)\n",
    "print(df_features.isna().sum())\n",
    "\n",
    "# Convertir todo a numérico (cualquier error se convierte a NaN)\n",
    "df_features_clean = df_features.apply(pd.to_numeric, errors='coerce')\n",
    "\n",
    "# Revisar nulos después de la conversión\n",
    "print(df_features_clean.isna().sum())"
   ]
  },
  {
   "cell_type": "markdown",
   "id": "2d94a96e",
   "metadata": {},
   "source": [
    "###  Escalar los datos sensoriales"
   ]
  },
  {
   "cell_type": "code",
   "execution_count": null,
   "id": "60eb3a86",
   "metadata": {},
   "outputs": [],
   "source": [
    "from sklearn.preprocessing import StandardScaler\n",
    "\n",
    "# Instanciar el escalador\n",
    "scaler = StandardScaler()\n",
    "\n",
    "# Ajustar y transformar los datos\n",
    "X_scaled = scaler.fit_transform(df_features_clean)\n",
    "\n",
    "# Convertir a DataFrame para conservar los nombres\n",
    "df_scaled = pd.DataFrame(X_scaled, columns=df_features_clean.columns)\n",
    "\n",
    "# Ver primeras filas\n",
    "df_scaled.head()\n"
   ]
  },
  {
   "cell_type": "markdown",
   "id": "01799a8b",
   "metadata": {},
   "source": [
    "## KNN "
   ]
  },
  {
   "cell_type": "markdown",
   "id": "2b32567a",
   "metadata": {},
   "source": [
    "La métrica de distancia del coseno se utiliza en este modelo de recomendación porque permite comparar cervezas con base en la **forma general de su perfil sensorial**, sin verse afectada por la magnitud absoluta de cada atributo. A diferencia de la distancia euclidiana, que mide diferencias en valores exactos, la distancia del coseno se enfoca en el **ángulo entre los vectores de características**, lo que es útil cuando dos cervezas tienen proporciones similares entre atributos como `bitter`, `sweet` o `hoppy`, aunque sus valores absolutos sean distintos. Esto resulta especialmente adecuado para datos previamente escalados, y para espacios de alta dimensión como este, donde la métrica coseno tiende a ser más robusta y representativa para evaluar similitud relativa entre elementos.\n"
   ]
  },
  {
   "cell_type": "code",
   "execution_count": null,
   "id": "ede6ef88",
   "metadata": {},
   "outputs": [],
   "source": [
    "from sklearn.neighbors import NearestNeighbors\n",
    "\n",
    "# Instanciar el modelo KNN con métrica coseno\n",
    "knn_model = NearestNeighbors(n_neighbors=6, metric='cosine')  # incluye la cerveza base\n",
    "knn_model.fit(df_scaled)\n",
    "\n",
    "# Elegir un índice de referencia (puedes probar con otros)\n",
    "index_ref = 0\n",
    "\n",
    "# Encontrar vecinos más cercanos\n",
    "distances, indices = knn_model.kneighbors(df_scaled.iloc[[index_ref]])\n",
    "\n",
    "# Mostrar nombres y distancias\n",
    "print(\"Cerveza base:\", df.iloc[index_ref]['name'])\n",
    "print(\"\\nCervezas recomendadas:\")\n",
    "\n",
    "for i, idx in enumerate(indices[0][1:], 1):  # excluye la cerveza base (índice 0)\n",
    "    print(f\"{i}. {df.iloc[idx]['name']} (Distancia: {distances[0][i]:.4f})\")\n"
   ]
  },
  {
   "cell_type": "markdown",
   "id": "7e66324d",
   "metadata": {},
   "source": [
    "#### Distancia promedio de las recomendaciones"
   ]
  },
  {
   "cell_type": "code",
   "execution_count": null,
   "id": "a5364514",
   "metadata": {},
   "outputs": [],
   "source": [
    "def score_similitud(index_ref, df_scaled, model, top_k=5):\n",
    "    distances, indices = model.kneighbors(df_scaled.iloc[[index_ref]])\n",
    "    mean_distance = distances[0][1:top_k+1].mean()\n",
    "    return mean_distance\n"
   ]
  },
  {
   "cell_type": "code",
   "execution_count": null,
   "id": "a719fe3d",
   "metadata": {},
   "outputs": [],
   "source": [
    "index_ref = df[df['name'] == \"amber\"].index[0]\n",
    "score_similitud(index_ref, df_scaled, knn_model)\n"
   ]
  },
  {
   "cell_type": "markdown",
   "id": "368cd80c",
   "metadata": {},
   "source": [
    "#### Evaluación masiva del recomendador\n",
    "Calcula la distancia promedio coseno entre cada cerveza y sus k recomendaciones más cercanas. Esto te dice qué tan similares son, en promedio, las recomendaciones que entrega el modelo."
   ]
  },
  {
   "cell_type": "code",
   "execution_count": null,
   "id": "7777dea1",
   "metadata": {},
   "outputs": [],
   "source": [
    "import numpy as np\n",
    "\n",
    "def score_similitud(index_ref, df_scaled, model, top_k=5):\n",
    "    distances, indices = model.kneighbors(df_scaled.iloc[[index_ref]])\n",
    "    return distances[0][1:top_k+1].mean()\n",
    "\n",
    "def evaluar_recomendador(df_scaled, model, muestras=100, top_k=5, seed=42):\n",
    "    np.random.seed(seed)\n",
    "    indices = np.random.choice(len(df_scaled), size=muestras, replace=False)\n",
    "    scores = [score_similitud(i, df_scaled, model, top_k=top_k) for i in indices]\n",
    "    return {\n",
    "        'distancias': scores,\n",
    "        'promedio': np.mean(scores),\n",
    "        'desviacion': np.std(scores)\n",
    "    }\n"
   ]
  },
  {
   "cell_type": "code",
   "execution_count": null,
   "id": "634598d7",
   "metadata": {},
   "outputs": [],
   "source": [
    "resultados = evaluar_recomendador(df_scaled, knn_model, muestras=100, top_k=5)\n",
    "\n",
    "print(\"Distancia promedio entre recomendaciones:\", resultados['promedio'])\n",
    "print(\"Desviación estándar:\", resultados['desviacion'])\n"
   ]
  },
  {
   "cell_type": "markdown",
   "id": "ba853b5d",
   "metadata": {},
   "source": [
    "---"
   ]
  },
  {
   "cell_type": "markdown",
   "id": "ee7a265c",
   "metadata": {},
   "source": [
    "# Kmeans"
   ]
  },
  {
   "cell_type": "code",
   "execution_count": null,
   "id": "e976b0bc",
   "metadata": {},
   "outputs": [],
   "source": [
    "from sklearn.cluster import KMeans\n",
    "import matplotlib.pyplot as plt\n",
    "\n",
    "k_range = range(2, 11)\n",
    "inertias = []\n",
    "\n",
    "for k in k_range:\n",
    "    kmeans = KMeans(n_clusters=k, random_state=42, n_init=10)\n",
    "    kmeans.fit(df_scaled)\n",
    "    inertias.append(kmeans.inertia_)\n",
    "\n",
    "plt.figure(figsize=(8, 5))\n",
    "plt.plot(k_range, inertias, marker='o')\n",
    "plt.xlabel(\"Número de clusters (k)\")\n",
    "plt.ylabel(\"Inercia\")\n",
    "plt.title(\"Método del codo para determinar k óptimo\")\n",
    "plt.grid(True)\n",
    "plt.show()\n"
   ]
  },
  {
   "cell_type": "code",
   "execution_count": null,
   "id": "c3ad9bb3",
   "metadata": {},
   "outputs": [],
   "source": [
    "from sklearn.cluster import KMeans\n",
    "\n",
    "# Entrenar modelo final\n",
    "kmeans = KMeans(n_clusters=5, random_state=42, n_init=10)\n",
    "df['cluster'] = kmeans.fit_predict(df_scaled)\n",
    "\n",
    "# Calcular promedios sensoriales por cluster\n",
    "df_clusters = pd.DataFrame(df_scaled, columns=feature_cols)\n",
    "df_clusters['cluster'] = df['cluster']\n",
    "cluster_means = df_clusters.groupby('cluster').mean()\n",
    "\n",
    "# Graficar cada cluster como un perfil de barra\n",
    "cluster_means.T.plot(kind='bar', figsize=(14, 6))\n",
    "plt.title(\"Perfil sensorial promedio por cluster\")\n",
    "plt.xlabel(\"Atributo sensorial\")\n",
    "plt.ylabel(\"Valor estandarizado\")\n",
    "plt.xticks(rotation=45, ha='right')\n",
    "plt.legend(title='Cluster')\n",
    "plt.tight_layout()\n",
    "plt.show()\n"
   ]
  },
  {
   "cell_type": "code",
   "execution_count": null,
   "id": "42301fad",
   "metadata": {},
   "outputs": [],
   "source": [
    "from sklearn.metrics import silhouette_score\n",
    "score = silhouette_score(df_scaled, df['cluster'])\n",
    "print(\"Silhouette Score:\", score)\n"
   ]
  },
  {
   "cell_type": "code",
   "execution_count": null,
   "id": "ba3571bd",
   "metadata": {},
   "outputs": [],
   "source": [
    "df['cluster'].value_counts()\n",
    "df.groupby('cluster')['style'].value_counts()\n"
   ]
  },
  {
   "cell_type": "markdown",
   "id": "958adb58",
   "metadata": {},
   "source": [
    "---"
   ]
  },
  {
   "cell_type": "markdown",
   "id": "e7ab1af3",
   "metadata": {},
   "source": [
    "## Estrategia recomendador híbrido: Cluster Kmeans + KNN"
   ]
  },
  {
   "cell_type": "code",
   "execution_count": null,
   "id": "95d8e561",
   "metadata": {},
   "outputs": [],
   "source": [
    "df_scaled_df = pd.DataFrame(df_scaled, columns=feature_cols, index=df.index)\n"
   ]
  },
  {
   "cell_type": "code",
   "execution_count": null,
   "id": "c1e70dff",
   "metadata": {},
   "outputs": [],
   "source": [
    "from sklearn.neighbors import NearestNeighbors\n",
    "\n",
    "def recomendar_hibrido(nombre_cerveza, df, df_scaled_df, top_n=5):\n",
    "    # Buscar cerveza base\n",
    "    base = df[df['name'].str.contains(nombre_cerveza, case=False)]\n",
    "    if base.empty:\n",
    "        print(\"❌ No se encontró la cerveza.\")\n",
    "        return\n",
    "    \n",
    "    index_ref = base.index[0]\n",
    "    nombre = base.loc[index_ref, 'name']\n",
    "    cluster_id = base.loc[index_ref, 'cluster']\n",
    "    \n",
    "    print(f\"🍺 Cerveza base: {nombre}\")\n",
    "    print(f\"🧠 Cluster sensorial asignado: {cluster_id}\\n\")\n",
    "\n",
    "    # Subconjunto del cluster\n",
    "    cluster_df = df[df['cluster'] == cluster_id]\n",
    "    cluster_scaled = df_scaled_df.loc[cluster_df.index]\n",
    "\n",
    "    # Reentrenar KNN sobre ese cluster\n",
    "    knn = NearestNeighbors(n_neighbors=top_n + 1, metric='cosine')\n",
    "    knn.fit(cluster_scaled)\n",
    "\n",
    "    # Encontrar posición relativa en cluster\n",
    "    pos_in_cluster = list(cluster_df.index).index(index_ref)\n",
    "    distances, indices = knn.kneighbors(cluster_scaled.iloc[[pos_in_cluster]])\n",
    "\n",
    "\n",
    "    # Mostrar recomendaciones (excluyendo la base)\n",
    "    for i, idx in enumerate(indices[0][1:], 1):\n",
    "        cerveza_idx = cluster_df.index[idx]\n",
    "        print(f\"{i}. {df.loc[cerveza_idx, 'name']} ({df.loc[cerveza_idx, 'style']}) - Distancia: {distances[0][i]:.4f}\")\n"
   ]
  },
  {
   "cell_type": "code",
   "execution_count": null,
   "id": "31740fa4",
   "metadata": {},
   "outputs": [],
   "source": [
    "recomendar_hibrido(\"amber\", df, df_scaled_df, top_n=5)\n"
   ]
  },
  {
   "cell_type": "code",
   "execution_count": null,
   "id": "d1a8ef39",
   "metadata": {},
   "outputs": [],
   "source": [
    "# Lista de cervezas populares por nombre\n",
    "ejemplos = [\"stone ipa\", \"guinness\", \"sierra nevada\", \"duvel\", \"pumpkin\", \"chocolate stout\"]\n",
    "\n",
    "for nombre in ejemplos:\n",
    "    print(\"=\"*60)\n",
    "    recomendar_hibrido(nombre, df, df_scaled_df, top_n=5)\n"
   ]
  },
  {
   "cell_type": "code",
   "execution_count": null,
   "id": "72dbac9b",
   "metadata": {},
   "outputs": [],
   "source": [
    "df['name'].nunique()\n"
   ]
  }
 ],
 "metadata": {
  "kernelspec": {
   "display_name": "arquitectura",
   "language": "python",
   "name": "python3"
  },
  "language_info": {
   "codemirror_mode": {
    "name": "ipython",
    "version": 3
   },
   "file_extension": ".py",
   "mimetype": "text/x-python",
   "name": "python",
   "nbconvert_exporter": "python",
   "pygments_lexer": "ipython3",
   "version": "3.11.11"
  }
 },
 "nbformat": 4,
 "nbformat_minor": 5
}
